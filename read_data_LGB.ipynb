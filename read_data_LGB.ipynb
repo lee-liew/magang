{
 "cells": [
  {
   "cell_type": "code",
   "execution_count": 1,
   "metadata": {},
   "outputs": [],
   "source": [
    "import struct\n",
    "import numpy as np\n",
    "import os\n",
    "import time\n",
    "import matplotlib.pyplot as plt\n",
    "import datetime\n",
    "import glob\n",
    "import pandas as pd\n",
    "from itertools import islice  \n",
    "import xgboost as xgb\n",
    "from model_config import *\n",
    "import lightgbm as lgb\n",
    "from catboost import CatBoostRegressor\n",
    "from sklearn.ensemble import RandomForestRegressor, ExtraTreesRegressor\n",
    "from scipy import stats\n",
    "from sklearn.metrics import r2_score, explained_variance_score, mean_squared_error, mean_absolute_error\n",
    "from sklearn.model_selection import GridSearchCV\n",
    "from treesbo.tuning import main_tuning_with_bo\n",
    "%matplotlib inline\n",
    "import matplotlib.pyplot as plt\n",
    "import joblib\n"
   ]
  },
  {
   "cell_type": "code",
   "execution_count": 2,
   "metadata": {},
   "outputs": [],
   "source": [
    "def lblrtm_tape11_reader(fname, opt):\n",
    "    #%[波数，光学厚度]\n",
    "    #% File format illustration\n",
    "    #% for single precision\n",
    "    #% shift 266*4 bytes\n",
    "    #% LOOP\n",
    "    #% 1 int        , 24 (block of v1, v2, dv, npts)\n",
    "    #% 2 double vars, for v1, and v2\n",
    "    #% 1 float      , for dv\n",
    "    #% 1 int        , for npts\n",
    "    #% 1 int        , 24\n",
    "    #% 1 int        , 9600 or npts*4 (beg of block output)\n",
    "    #% NPTs float   , rad\n",
    "    #% 1 int        , 9600 or npts*4 (end of block of output)\n",
    "    #% LOOP ENDS\n",
    "    #\n",
    "    #% for double precision\n",
    "    #% shift 356*4 bytes\n",
    "    #% LOOP\n",
    "    #% 1 int        , 32 (v1, v2, dv and npts, extra 0)\n",
    "    #% 3 double vars, for v1, v2, and dv\n",
    "    #% 1 long int   , for npts\n",
    "    #% 1 int        , 32   \n",
    "    #% 1 int        , 19200 or npts*8 (beg of block of output)\n",
    "    #% NPTS double  , rad\n",
    "    #% 1 int        , 19200 or npts*8 (end of block of output)\n",
    "    #% LOOP ENDS\n",
    "    #%npts: the number of points in the panel?\n",
    "    #% Author: Xianglei Huang\n",
    "    #% Tested on Redhat Linux with pgi-compiler version of LBLRTM\n",
    "    v = np.array([])\n",
    "    rad = np.array([])\n",
    "    if opt.lower() == 'float' or opt.lower() == 'single':\n",
    "        shift = 266\n",
    "        itype   = 1\n",
    "    else:\n",
    "        shift = 356\n",
    "        itype = 2\n",
    "    #print(shift,itype)\n",
    "    fid = open(fname, 'rb')\n",
    "    fid.seek(shift*4)\n",
    "    #% decide whether need to open as big-endian file\n",
    "    test = struct.unpack(\"i\",fid.read(4))[0]  #matlab中的'int'对应c的'int'\n",
    "    #print(\"test=\",test)\n",
    "    fid.close()\n",
    "    if (itype == 1 and test == 24) or (itype ==2 and test == 32):\n",
    "        fid = open(fname, 'rb')\n",
    "        fid.seek(shift*4)\n",
    "        order='<'\n",
    "    else:\n",
    "        fid = open(fname, 'rb')\n",
    "        fid.seek(shift*4)\n",
    "        order='>'        \n",
    "    #print(order)\n",
    "    endflg = 0\n",
    "    panel = 0\n",
    "#\n",
    "    if itype == 1:   \n",
    "        while endflg == 0:\n",
    "            panel = panel + 1\n",
    "            _ = struct.unpack(order+\"i\",fid.read(4))[0]\n",
    "            v1= struct.unpack(order+\"d\",fid.read(8))[0]#matlab的'double'对应c的'double'，对应python的float，占8字节\n",
    "            #print(\"v1=\",v1)\n",
    "            if np.isnan(v1):\n",
    "                break\n",
    "            v2= struct.unpack(order+\"d\",fid.read(8))[0]\n",
    "            #print(\"v2=\",v2)\n",
    "            dv= struct.unpack(order+\"f\",fid.read(4))[0]#matlab的'float'对应c的'float'，对应python的float，占4字节\n",
    "            #print(\"dv=\",dv)\n",
    "            npts= struct.unpack(order+\"i\",fid.read(4))[0]\n",
    "            #print(\"npts=\",npts)\n",
    "            if npts!=2400:\n",
    "                endflg=1\n",
    "                #print(\"npts break\",\" and npts=\",npts)\n",
    "            _ = struct.unpack(order+\"i\",fid.read(4))[0]\n",
    "            LEN= struct.unpack(order+\"i\",fid.read(4))[0]\n",
    "            if LEN!=4*npts:\n",
    "                #print('1 internal file inconsistency')\n",
    "                endflg=1\n",
    "            tmp= struct.unpack(order+str(npts)+\"f\",fid.read(4*npts))\n",
    "            #print(\"tmp=\",tmp)\n",
    "            LEN2= struct.unpack(order+\"i\",fid.read(4))[0]\n",
    "            if LEN != LEN2:\n",
    "                #print('2 internal file inconsistency')\n",
    "                endflg=1\n",
    "            v=np.append(v,np.arange(v1,v2,dv).transpose())\n",
    "            rad=np.append(rad,np.array(tmp).reshape(npts,1))\n",
    "    else:\n",
    "        print(\"itype != 1\")\n",
    "        while endflg == 0:\n",
    "            panel = panel + 1\n",
    "            _ = struct.unpack(order+\"i\",fid.read(4))[0]\n",
    "            tmp= struct.unpack(order+\"3d\",fid.read(8*3))\n",
    "            v1=tmp[0]\n",
    "            v2=tmp[1]\n",
    "            dv=tmp[2]\n",
    "            if np.isnan(v1):\n",
    "                break \n",
    "            npts= struct.unpack(order+\"q\",fid.read(8))[0] #npts = fread(fid, 1, 'int64');\n",
    "            if npts!=2400:\n",
    "                endflg=1\n",
    "                #print(\"npts break\")\n",
    "            _ = struct.unpack(order+\"i\",fid.read(4))[0]   \n",
    "            LEN= struct.unpack(order+\"i\",fid.read(4))[0]\n",
    "            if LEN!=8*npts:\n",
    "                #print('3 internal file inconsistency')\n",
    "                endflg=1\n",
    "            tmp= struct.unpack((order+str(npts)+\"d\"),fid.read(8*npts))\n",
    "            LEN2= struct.unpack(order+\"i\",fid.read(4))[0]\n",
    "            if LEN != LEN2:\n",
    "                #print('4 internal file inconsistency')\n",
    "                endflg=1\n",
    "            v=np.append(v,np.arange(v1,v2,dv).transpose())\n",
    "            rad=np.append(rad,np.array(tmp).reshape(npts,1))                \n",
    "    fid.close()\n",
    "    return v,rad"
   ]
  },
  {
   "cell_type": "code",
   "execution_count": 3,
   "metadata": {},
   "outputs": [],
   "source": [
    "def EC(fname):\n",
    "    p=np.array([])\n",
    "    t=np.array([])\n",
    "    wv=np.array([])\n",
    "    co2=np.array([])\n",
    "    o3=np.array([])\n",
    "    no2=np.array([])\n",
    "    co=np.array([])\n",
    "    ch4=np.array([])\n",
    "    input_file=open(fname)\n",
    "    num=0\n",
    "    for line in islice(input_file,19,None):\n",
    "        num=num+1\n",
    "        #print(line)\n",
    "        p_temp,t_temp,wv_temp,co2_temp,o3_temp,no2_temp,co_temp,ch4_temp=[float(i) for i in line.split()]\n",
    "        p=np.append(p,p_temp)\n",
    "        t=np.append(t,t_temp)\n",
    "        wv=np.append(wv,wv_temp)\n",
    "        co2=np.append(co2,co2_temp)\n",
    "        o3=np.append(o3,o3_temp)\n",
    "        no2=np.append(no2,no2_temp)\n",
    "        co=np.append(co,co_temp)\n",
    "        ch4=np.append(ch4,ch4_temp)\n",
    "        if num%101==0:\n",
    "            for line2 in islice(input_file, 0, 2):\n",
    "                continue\n",
    "            \n",
    "    return p,t,wv,co2,o3,no2,co,ch4"
   ]
  },
  {
   "cell_type": "code",
   "execution_count": 4,
   "metadata": {},
   "outputs": [],
   "source": [
    "def func_evaluation(y_real, y_pred, verbose=True):\n",
    "    \"\"\"\n",
    "    y_real: real values\n",
    "    y_pred: prediction values\n",
    "    MAKE THEM HAVE THE SHAPE OF (N,) FIRST BY USING ndarray.ravel()\n",
    "    \"\"\"\n",
    "    if not isinstance(y_real, np.ndarray):\n",
    "        y_real = np.array(y_real)\n",
    "    if not isinstance(y_pred, np.ndarray):\n",
    "        y_pred = np.array(y_pred)\n",
    "    y_real = y_real.ravel()\n",
    "    y_pred = y_pred.ravel()\n",
    "\n",
    "    # MAPE\n",
    "    def cal_mape(y_true, y_pred):\n",
    "        y_true = np.where(y_true == 0, 1, y_true)  # To avoid zeros.\n",
    "        mape = np.mean(abs((y_true.ravel() - y_pred.ravel()) / y_true.ravel()))\n",
    "        return mape\n",
    "\n",
    "    m0 = stats.pearsonr(y_real, y_pred)[0]\n",
    "    m1 = r2_score(y_real, y_pred)\n",
    "    m2 = explained_variance_score(y_real, y_pred)\n",
    "    m3 = mean_squared_error(y_real, y_pred)\n",
    "    m4 = mean_absolute_error(y_real, y_pred)\n",
    "    m5 = cal_mape(y_real, y_pred)\n",
    "    if verbose:\n",
    "        print(\"模型的评估结果:\")\n",
    "        print(\n",
    "            'PersonR: %f \\nRMSE: %f \\nR2: %f \\nExplained Variance: %f \\nMSE: %f \\nMAE: %f \\nMAPE: %f'\n",
    "            % (m0, np.sqrt(m3), m1, m2, m3, m4, m5))\n",
    "    return m0, np.sqrt(m3), m1, m2, m3, m4, m5\n",
    "\n"
   ]
  },
  {
   "cell_type": "code",
   "execution_count": 5,
   "metadata": {
    "scrolled": true
   },
   "outputs": [
    {
     "name": "stdout",
     "output_type": "stream",
     "text": [
      "(8383, 8)\n",
      "(8300, 8)\n"
     ]
    }
   ],
   "source": [
    "ecpath='/mnt/hdd2/228_data/liuli/liul'\n",
    "ozopath='/mnt/hdd2/228_data/liuli/liul/ozo/angle1'\n",
    "ec_name=ecpath+'/ECMWF_83P_101L.dat'\n",
    "#print(type(test_name))\n",
    "p,t,wv,co2,o3,no2,co,ch4=EC(ec_name)   \n",
    "#print(t)\n",
    "ec_input=np.hstack((p.reshape(-1,1),t.reshape(-1,1),wv.reshape(-1,1),co2.reshape(-1,1),o3.reshape(-1,1),no2.reshape(-1,1),co.reshape(-1,1),ch4.reshape(-1,1)))\n",
    "print(ec_input.shape)\n",
    "ec_input_100=np.zeros((83*100,ec_input.shape[1]))\n",
    "for pro in range(0,83): #83条\n",
    "    for i in range(0+101*pro,100+101*pro):\n",
    "        for j in range(ec_input.shape[1]):\n",
    "            ec_input_100[i-101*pro+100*pro,j]=(ec_input[i,j]+ec_input[i+1,j])/2.0\n",
    "print(ec_input_100.shape)"
   ]
  },
  {
   "cell_type": "code",
   "execution_count": 6,
   "metadata": {
    "scrolled": false
   },
   "outputs": [
    {
     "name": "stdout",
     "output_type": "stream",
     "text": [
      "2021-03-25 18:33:49\n",
      "####################！！！LGB Running！！！##########################\n"
     ]
    },
    {
     "name": "stderr",
     "output_type": "stream",
     "text": [
      "/mnt/hdd3/liuli/anaconda3/envs/JT/lib/python3.7/site-packages/ipykernel_launcher.py:17: RuntimeWarning: overflow encountered in true_divide\n"
     ]
    },
    {
     "name": "stdout",
     "output_type": "stream",
     "text": [
      "模型的评估结果:\n",
      "PersonR: 0.978339 \n",
      "RMSE: 0.066343 \n",
      "R2: 0.957114 \n",
      "Explained Variance: 0.957124 \n",
      "MSE: 0.004401 \n",
      "MAE: 0.024419 \n",
      "MAPE: inf\n",
      "LGB (0.9783389422719688, 0.06634306823121337, 0.9571140428229776, 0.957124286272274, 0.004401402702331434, 0.024419158328692105, inf)\n",
      "2021-03-25 18:49:20\n",
      "####################！！！LGB Running！！！##########################\n"
     ]
    },
    {
     "name": "stderr",
     "output_type": "stream",
     "text": [
      "/mnt/hdd3/liuli/anaconda3/envs/JT/lib/python3.7/site-packages/ipykernel_launcher.py:17: RuntimeWarning: overflow encountered in true_divide\n",
      "/mnt/hdd3/liuli/anaconda3/envs/JT/lib/python3.7/site-packages/numpy/core/_methods.py:160: RuntimeWarning: overflow encountered in reduce\n",
      "  ret = umr_sum(arr, axis, dtype, out, keepdims)\n"
     ]
    },
    {
     "name": "stdout",
     "output_type": "stream",
     "text": [
      "模型的评估结果:\n",
      "PersonR: 0.977830 \n",
      "RMSE: 0.067029 \n",
      "R2: 0.956114 \n",
      "Explained Variance: 0.956127 \n",
      "MSE: 0.004493 \n",
      "MAE: 0.024682 \n",
      "MAPE: inf\n",
      "LGB (0.9778300097477911, 0.06702854332107627, 0.9561141905656932, 0.9561268551032931, 0.004492825619745399, 0.024682454289548038, inf)\n",
      "2021-03-25 19:02:24\n",
      "####################！！！LGB Running！！！##########################\n"
     ]
    },
    {
     "name": "stderr",
     "output_type": "stream",
     "text": [
      "/mnt/hdd3/liuli/anaconda3/envs/JT/lib/python3.7/site-packages/ipykernel_launcher.py:17: RuntimeWarning: overflow encountered in true_divide\n"
     ]
    },
    {
     "name": "stdout",
     "output_type": "stream",
     "text": [
      "模型的评估结果:\n",
      "PersonR: 0.977296 \n",
      "RMSE: 0.067715 \n",
      "R2: 0.955061 \n",
      "Explained Variance: 0.955084 \n",
      "MSE: 0.004585 \n",
      "MAE: 0.025023 \n",
      "MAPE: inf\n",
      "LGB (0.9772962583751664, 0.067715145528486, 0.9550609619398516, 0.9550843389553187, 0.004585340933944036, 0.025022767907462065, inf)\n",
      "2021-03-25 19:15:41\n",
      "####################！！！LGB Running！！！##########################\n"
     ]
    },
    {
     "name": "stderr",
     "output_type": "stream",
     "text": [
      "/mnt/hdd3/liuli/anaconda3/envs/JT/lib/python3.7/site-packages/ipykernel_launcher.py:17: RuntimeWarning: overflow encountered in true_divide\n"
     ]
    },
    {
     "name": "stdout",
     "output_type": "stream",
     "text": [
      "模型的评估结果:\n",
      "PersonR: 0.976887 \n",
      "RMSE: 0.068176 \n",
      "R2: 0.954275 \n",
      "Explained Variance: 0.954285 \n",
      "MSE: 0.004648 \n",
      "MAE: 0.025241 \n",
      "MAPE: inf\n",
      "LGB (0.9768868419124923, 0.06817636329900822, 0.9542745980623097, 0.9542846320443474, 0.004648016512678355, 0.02524114025095633, inf)\n",
      "2021-03-25 19:28:51\n",
      "####################！！！LGB Running！！！##########################\n"
     ]
    },
    {
     "name": "stderr",
     "output_type": "stream",
     "text": [
      "/mnt/hdd3/liuli/anaconda3/envs/JT/lib/python3.7/site-packages/ipykernel_launcher.py:17: RuntimeWarning: overflow encountered in true_divide\n",
      "/mnt/hdd3/liuli/anaconda3/envs/JT/lib/python3.7/site-packages/numpy/core/_methods.py:160: RuntimeWarning: overflow encountered in reduce\n",
      "  ret = umr_sum(arr, axis, dtype, out, keepdims)\n"
     ]
    },
    {
     "name": "stdout",
     "output_type": "stream",
     "text": [
      "模型的评估结果:\n",
      "PersonR: 0.976438 \n",
      "RMSE: 0.068680 \n",
      "R2: 0.953392 \n",
      "Explained Variance: 0.953394 \n",
      "MSE: 0.004717 \n",
      "MAE: 0.025739 \n",
      "MAPE: inf\n",
      "LGB (0.9764382221337287, 0.06868021021274054, 0.9533918811345925, 0.9533935403787901, 0.00471697127486623, 0.025738700446546334, inf)\n",
      "2021-03-25 19:41:54\n",
      "####################！！！LGB Running！！！##########################\n"
     ]
    },
    {
     "name": "stderr",
     "output_type": "stream",
     "text": [
      "/mnt/hdd3/liuli/anaconda3/envs/JT/lib/python3.7/site-packages/ipykernel_launcher.py:17: RuntimeWarning: overflow encountered in true_divide\n"
     ]
    },
    {
     "name": "stdout",
     "output_type": "stream",
     "text": [
      "模型的评估结果:\n",
      "PersonR: 0.976264 \n",
      "RMSE: 0.068679 \n",
      "R2: 0.953045 \n",
      "Explained Variance: 0.953061 \n",
      "MSE: 0.004717 \n",
      "MAE: 0.024820 \n",
      "MAPE: inf\n",
      "LGB (0.9762639307361747, 0.06867943006278156, 0.9530453511440234, 0.9530608974851037, 0.004716864113748503, 0.024819586744274792, inf)\n",
      "2021-03-25 19:54:56\n",
      "####################！！！LGB Running！！！##########################\n"
     ]
    },
    {
     "name": "stderr",
     "output_type": "stream",
     "text": [
      "/mnt/hdd3/liuli/anaconda3/envs/JT/lib/python3.7/site-packages/ipykernel_launcher.py:17: RuntimeWarning: overflow encountered in true_divide\n"
     ]
    },
    {
     "name": "stdout",
     "output_type": "stream",
     "text": [
      "模型的评估结果:\n",
      "PersonR: 0.975981 \n",
      "RMSE: 0.068776 \n",
      "R2: 0.952501 \n",
      "Explained Variance: 0.952510 \n",
      "MSE: 0.004730 \n",
      "MAE: 0.024753 \n",
      "MAPE: inf\n",
      "LGB (0.9759805799466613, 0.06877612722508139, 0.9525007915478437, 0.9525103161878221, 0.004730155676080581, 0.024753278074950036, inf)\n",
      "2021-03-25 20:07:35\n",
      "####################！！！LGB Running！！！##########################\n"
     ]
    },
    {
     "name": "stderr",
     "output_type": "stream",
     "text": [
      "/mnt/hdd3/liuli/anaconda3/envs/JT/lib/python3.7/site-packages/ipykernel_launcher.py:17: RuntimeWarning: overflow encountered in true_divide\n"
     ]
    },
    {
     "name": "stdout",
     "output_type": "stream",
     "text": [
      "模型的评估结果:\n",
      "PersonR: 0.975624 \n",
      "RMSE: 0.068995 \n",
      "R2: 0.951805 \n",
      "Explained Variance: 0.951818 \n",
      "MSE: 0.004760 \n",
      "MAE: 0.024574 \n",
      "MAPE: inf\n",
      "LGB (0.9756241785445913, 0.06899512937506766, 0.951804621270142, 0.9518181130450131, 0.004760327877482324, 0.024573568383977146, inf)\n",
      "2021-03-25 20:20:20\n",
      "####################！！！LGB Running！！！##########################\n"
     ]
    },
    {
     "name": "stderr",
     "output_type": "stream",
     "text": [
      "/mnt/hdd3/liuli/anaconda3/envs/JT/lib/python3.7/site-packages/ipykernel_launcher.py:17: RuntimeWarning: overflow encountered in true_divide\n"
     ]
    },
    {
     "name": "stdout",
     "output_type": "stream",
     "text": [
      "模型的评估结果:\n",
      "PersonR: 0.975291 \n",
      "RMSE: 0.069172 \n",
      "R2: 0.951156 \n",
      "Explained Variance: 0.951170 \n",
      "MSE: 0.004785 \n",
      "MAE: 0.024461 \n",
      "MAPE: inf\n",
      "LGB (0.9752907098432545, 0.0691717700397497, 0.9511562226288623, 0.9511696099787653, 0.004784733770432014, 0.024461262388028888, inf)\n",
      "2021-03-25 20:33:11\n",
      "####################！！！LGB Running！！！##########################\n"
     ]
    },
    {
     "name": "stderr",
     "output_type": "stream",
     "text": [
      "/mnt/hdd3/liuli/anaconda3/envs/JT/lib/python3.7/site-packages/ipykernel_launcher.py:17: RuntimeWarning: overflow encountered in true_divide\n"
     ]
    },
    {
     "name": "stdout",
     "output_type": "stream",
     "text": [
      "模型的评估结果:\n",
      "PersonR: 0.975029 \n",
      "RMSE: 0.069210 \n",
      "R2: 0.950661 \n",
      "Explained Variance: 0.950664 \n",
      "MSE: 0.004790 \n",
      "MAE: 0.024505 \n",
      "MAPE: inf\n",
      "LGB (0.9750287072078773, 0.06920971529565793, 0.9506607143351998, 0.950663971279553, 0.004789984691306028, 0.02450538013125296, inf)\n",
      "2021-03-25 20:45:52\n",
      "####################！！！LGB Running！！！##########################\n"
     ]
    },
    {
     "name": "stderr",
     "output_type": "stream",
     "text": [
      "/mnt/hdd3/liuli/anaconda3/envs/JT/lib/python3.7/site-packages/ipykernel_launcher.py:17: RuntimeWarning: overflow encountered in true_divide\n",
      "/mnt/hdd3/liuli/anaconda3/envs/JT/lib/python3.7/site-packages/numpy/core/_methods.py:160: RuntimeWarning: overflow encountered in reduce\n",
      "  ret = umr_sum(arr, axis, dtype, out, keepdims)\n"
     ]
    },
    {
     "name": "stdout",
     "output_type": "stream",
     "text": [
      "模型的评估结果:\n",
      "PersonR: 0.974779 \n",
      "RMSE: 0.069229 \n",
      "R2: 0.950158 \n",
      "Explained Variance: 0.950176 \n",
      "MSE: 0.004793 \n",
      "MAE: 0.023871 \n",
      "MAPE: inf\n",
      "LGB (0.9747789147150024, 0.06922850624078304, 0.9501579948948397, 0.950176153339484, 0.004792586076330137, 0.023871002399681505, inf)\n",
      "2021-03-25 20:58:10\n",
      "####################！！！LGB Running！！！##########################\n"
     ]
    },
    {
     "name": "stderr",
     "output_type": "stream",
     "text": [
      "/mnt/hdd3/liuli/anaconda3/envs/JT/lib/python3.7/site-packages/ipykernel_launcher.py:17: RuntimeWarning: overflow encountered in true_divide\n"
     ]
    },
    {
     "name": "stdout",
     "output_type": "stream",
     "text": [
      "模型的评估结果:\n",
      "PersonR: 0.974532 \n",
      "RMSE: 0.069202 \n",
      "R2: 0.949694 \n",
      "Explained Variance: 0.949697 \n",
      "MSE: 0.004789 \n",
      "MAE: 0.023825 \n",
      "MAPE: inf\n",
      "LGB (0.9745321481491244, 0.06920238066841179, 0.9496935239613449, 0.9496968114675337, 0.004788969490175774, 0.02382466242999133, inf)\n",
      "2021-03-25 21:10:46\n",
      "####################！！！LGB Running！！！##########################\n"
     ]
    },
    {
     "name": "stderr",
     "output_type": "stream",
     "text": [
      "/mnt/hdd3/liuli/anaconda3/envs/JT/lib/python3.7/site-packages/ipykernel_launcher.py:17: RuntimeWarning: overflow encountered in true_divide\n"
     ]
    },
    {
     "name": "stdout",
     "output_type": "stream",
     "text": [
      "模型的评估结果:\n",
      "PersonR: 0.974314 \n",
      "RMSE: 0.069129 \n",
      "R2: 0.949266 \n",
      "Explained Variance: 0.949277 \n",
      "MSE: 0.004779 \n",
      "MAE: 0.023461 \n",
      "MAPE: inf\n",
      "LGB (0.9743144220063784, 0.06912896127232604, 0.9492657241649824, 0.9492765735247615, 0.0047788132865907535, 0.023461041977077785, inf)\n",
      "2021-03-25 21:23:22\n",
      "####################！！！LGB Running！！！##########################\n"
     ]
    },
    {
     "name": "stderr",
     "output_type": "stream",
     "text": [
      "/mnt/hdd3/liuli/anaconda3/envs/JT/lib/python3.7/site-packages/ipykernel_launcher.py:17: RuntimeWarning: overflow encountered in true_divide\n"
     ]
    },
    {
     "name": "stdout",
     "output_type": "stream",
     "text": [
      "模型的评估结果:\n",
      "PersonR: 0.974115 \n",
      "RMSE: 0.068996 \n",
      "R2: 0.948886 \n",
      "Explained Variance: 0.948886 \n",
      "MSE: 0.004760 \n",
      "MAE: 0.023627 \n",
      "MAPE: inf\n",
      "LGB (0.9741147171164077, 0.06899570978498176, 0.9488855079108881, 0.9488855577732057, 0.004760407968733427, 0.023626922007552544, inf)\n",
      "2021-03-25 21:35:48\n",
      "####################！！！LGB Running！！！##########################\n"
     ]
    },
    {
     "name": "stderr",
     "output_type": "stream",
     "text": [
      "/mnt/hdd3/liuli/anaconda3/envs/JT/lib/python3.7/site-packages/ipykernel_launcher.py:17: RuntimeWarning: overflow encountered in true_divide\n"
     ]
    },
    {
     "name": "stdout",
     "output_type": "stream",
     "text": [
      "模型的评估结果:\n",
      "PersonR: 0.973959 \n",
      "RMSE: 0.068789 \n",
      "R2: 0.948584 \n",
      "Explained Variance: 0.948584 \n",
      "MSE: 0.004732 \n",
      "MAE: 0.023622 \n",
      "MAPE: inf\n",
      "LGB (0.9739592900409337, 0.06878855112084135, 0.9485844060844416, 0.948584409222033, 0.004731864765304604, 0.023621537562255195, inf)\n",
      "2021-03-25 21:47:50\n",
      "####################！！！LGB Running！！！##########################\n"
     ]
    },
    {
     "name": "stderr",
     "output_type": "stream",
     "text": [
      "/mnt/hdd3/liuli/anaconda3/envs/JT/lib/python3.7/site-packages/ipykernel_launcher.py:17: RuntimeWarning: overflow encountered in true_divide\n"
     ]
    },
    {
     "name": "stdout",
     "output_type": "stream",
     "text": [
      "模型的评估结果:\n",
      "PersonR: 0.973948 \n",
      "RMSE: 0.068386 \n",
      "R2: 0.948563 \n",
      "Explained Variance: 0.948564 \n",
      "MSE: 0.004677 \n",
      "MAE: 0.022980 \n",
      "MAPE: inf\n",
      "LGB (0.973947785927844, 0.06838579119839391, 0.9485625319763243, 0.9485639247212821, 0.00467661643783033, 0.022980022991047323, inf)\n",
      "2021-03-25 22:00:18\n",
      "####################！！！LGB Running！！！##########################\n"
     ]
    },
    {
     "name": "stderr",
     "output_type": "stream",
     "text": [
      "/mnt/hdd3/liuli/anaconda3/envs/JT/lib/python3.7/site-packages/ipykernel_launcher.py:17: RuntimeWarning: overflow encountered in true_divide\n"
     ]
    },
    {
     "name": "stdout",
     "output_type": "stream",
     "text": [
      "模型的评估结果:\n",
      "PersonR: 0.973780 \n",
      "RMSE: 0.068166 \n",
      "R2: 0.948236 \n",
      "Explained Variance: 0.948239 \n",
      "MSE: 0.004647 \n",
      "MAE: 0.022605 \n",
      "MAPE: inf\n",
      "LGB (0.9737798818718575, 0.0681662169555949, 0.9482355484670544, 0.9482392039904832, 0.0046466331340372325, 0.022605100340202217, inf)\n",
      "2021-03-25 22:12:39\n",
      "####################！！！LGB Running！！！##########################\n"
     ]
    },
    {
     "name": "stderr",
     "output_type": "stream",
     "text": [
      "/mnt/hdd3/liuli/anaconda3/envs/JT/lib/python3.7/site-packages/ipykernel_launcher.py:17: RuntimeWarning: overflow encountered in true_divide\n"
     ]
    },
    {
     "name": "stdout",
     "output_type": "stream",
     "text": [
      "模型的评估结果:\n",
      "PersonR: 0.973548 \n",
      "RMSE: 0.068017 \n",
      "R2: 0.947790 \n",
      "Explained Variance: 0.947791 \n",
      "MSE: 0.004626 \n",
      "MAE: 0.022516 \n",
      "MAPE: inf\n",
      "LGB (0.9735482423671514, 0.06801720634422989, 0.9477901648136094, 0.9477905688889029, 0.004626340358873548, 0.022516198084599034, inf)\n",
      "2021-03-25 22:24:46\n",
      "####################！！！LGB Running！！！##########################\n"
     ]
    },
    {
     "name": "stderr",
     "output_type": "stream",
     "text": [
      "/mnt/hdd3/liuli/anaconda3/envs/JT/lib/python3.7/site-packages/ipykernel_launcher.py:17: RuntimeWarning: overflow encountered in true_divide\n"
     ]
    },
    {
     "name": "stdout",
     "output_type": "stream",
     "text": [
      "模型的评估结果:\n",
      "PersonR: 0.973345 \n",
      "RMSE: 0.067817 \n",
      "R2: 0.947393 \n",
      "Explained Variance: 0.947395 \n",
      "MSE: 0.004599 \n",
      "MAE: 0.022006 \n",
      "MAPE: inf\n",
      "LGB (0.9733454995837625, 0.06781724531584672, 0.9473925428237706, 0.9473954344915001, 0.004599178762229735, 0.02200589830091048, inf)\n",
      "2021-03-25 22:36:49\n",
      "####################！！！LGB Running！！！##########################\n"
     ]
    },
    {
     "name": "stderr",
     "output_type": "stream",
     "text": [
      "/mnt/hdd3/liuli/anaconda3/envs/JT/lib/python3.7/site-packages/ipykernel_launcher.py:17: RuntimeWarning: overflow encountered in true_divide\n"
     ]
    },
    {
     "name": "stdout",
     "output_type": "stream",
     "text": [
      "模型的评估结果:\n",
      "PersonR: 0.973033 \n",
      "RMSE: 0.067721 \n",
      "R2: 0.946787 \n",
      "Explained Variance: 0.946789 \n",
      "MSE: 0.004586 \n",
      "MAE: 0.021915 \n",
      "MAPE: inf\n",
      "LGB (0.9730328751566486, 0.06772125739495356, 0.9467869835883316, 0.9467890904360999, 0.004586168703153552, 0.021915037241865522, inf)\n",
      "2021-03-25 22:48:46\n",
      "####################！！！LGB Running！！！##########################\n"
     ]
    },
    {
     "name": "stderr",
     "output_type": "stream",
     "text": [
      "/mnt/hdd3/liuli/anaconda3/envs/JT/lib/python3.7/site-packages/ipykernel_launcher.py:17: RuntimeWarning: overflow encountered in true_divide\n",
      "/mnt/hdd3/liuli/anaconda3/envs/JT/lib/python3.7/site-packages/numpy/core/_methods.py:160: RuntimeWarning: overflow encountered in reduce\n",
      "  ret = umr_sum(arr, axis, dtype, out, keepdims)\n"
     ]
    },
    {
     "name": "stdout",
     "output_type": "stream",
     "text": [
      "模型的评估结果:\n",
      "PersonR: 0.972659 \n",
      "RMSE: 0.067695 \n",
      "R2: 0.946060 \n",
      "Explained Variance: 0.946061 \n",
      "MSE: 0.004583 \n",
      "MAE: 0.021808 \n",
      "MAPE: inf\n",
      "LGB (0.9726585550836105, 0.06769490878337425, 0.9460601032768646, 0.9460613265790854, 0.00458260067518936, 0.021807589446279172, inf)\n",
      "2021-03-25 23:00:55\n",
      "####################！！！LGB Running！！！##########################\n"
     ]
    },
    {
     "name": "stderr",
     "output_type": "stream",
     "text": [
      "/mnt/hdd3/liuli/anaconda3/envs/JT/lib/python3.7/site-packages/ipykernel_launcher.py:17: RuntimeWarning: overflow encountered in true_divide\n",
      "/mnt/hdd3/liuli/anaconda3/envs/JT/lib/python3.7/site-packages/numpy/core/_methods.py:160: RuntimeWarning: overflow encountered in reduce\n",
      "  ret = umr_sum(arr, axis, dtype, out, keepdims)\n"
     ]
    },
    {
     "name": "stdout",
     "output_type": "stream",
     "text": [
      "模型的评估结果:\n",
      "PersonR: 0.972253 \n",
      "RMSE: 0.067682 \n",
      "R2: 0.945272 \n",
      "Explained Variance: 0.945273 \n",
      "MSE: 0.004581 \n",
      "MAE: 0.021715 \n",
      "MAPE: inf\n",
      "LGB (0.9722534587897005, 0.06768190534079904, 0.9452720121241177, 0.9452731159060963, 0.004580840310560883, 0.021715487140734516, inf)\n",
      "2021-03-25 23:12:50\n",
      "####################！！！LGB Running！！！##########################\n"
     ]
    },
    {
     "name": "stderr",
     "output_type": "stream",
     "text": [
      "/mnt/hdd3/liuli/anaconda3/envs/JT/lib/python3.7/site-packages/ipykernel_launcher.py:17: RuntimeWarning: overflow encountered in true_divide\n",
      "/mnt/hdd3/liuli/anaconda3/envs/JT/lib/python3.7/site-packages/numpy/core/_methods.py:160: RuntimeWarning: overflow encountered in reduce\n",
      "  ret = umr_sum(arr, axis, dtype, out, keepdims)\n"
     ]
    },
    {
     "name": "stdout",
     "output_type": "stream",
     "text": [
      "模型的评估结果:\n",
      "PersonR: 0.971860 \n",
      "RMSE: 0.067618 \n",
      "R2: 0.944504 \n",
      "Explained Variance: 0.944509 \n",
      "MSE: 0.004572 \n",
      "MAE: 0.021491 \n",
      "MAPE: inf\n",
      "LGB (0.971860160920578, 0.06761753226933649, 0.9445039447039807, 0.9445085109296778, 0.0045721306701947614, 0.021490823667946923, inf)\n",
      "2021-03-25 23:24:51\n",
      "####################！！！LGB Running！！！##########################\n"
     ]
    },
    {
     "name": "stderr",
     "output_type": "stream",
     "text": [
      "/mnt/hdd3/liuli/anaconda3/envs/JT/lib/python3.7/site-packages/ipykernel_launcher.py:17: RuntimeWarning: overflow encountered in true_divide\n"
     ]
    },
    {
     "name": "stdout",
     "output_type": "stream",
     "text": [
      "模型的评估结果:\n",
      "PersonR: 0.971486 \n",
      "RMSE: 0.067480 \n",
      "R2: 0.943777 \n",
      "Explained Variance: 0.943781 \n",
      "MSE: 0.004554 \n",
      "MAE: 0.021396 \n",
      "MAPE: inf\n",
      "LGB (0.9714856126012723, 0.06747974759369231, 0.9437769632214669, 0.9437812181867414, 0.004553516335308423, 0.0213956773856338, inf)\n",
      "2021-03-25 23:37:03\n",
      "####################！！！LGB Running！！！##########################\n"
     ]
    },
    {
     "name": "stderr",
     "output_type": "stream",
     "text": [
      "/mnt/hdd3/liuli/anaconda3/envs/JT/lib/python3.7/site-packages/ipykernel_launcher.py:17: RuntimeWarning: overflow encountered in true_divide\n"
     ]
    },
    {
     "name": "stdout",
     "output_type": "stream",
     "text": [
      "模型的评估结果:\n",
      "PersonR: 0.971062 \n",
      "RMSE: 0.067373 \n",
      "R2: 0.942957 \n",
      "Explained Variance: 0.942958 \n",
      "MSE: 0.004539 \n",
      "MAE: 0.021414 \n",
      "MAPE: inf\n",
      "LGB (0.9710616867263566, 0.06737305172657017, 0.9429567183782823, 0.9429583317660023, 0.004539128098951099, 0.021413655670161243, inf)\n",
      "2021-03-25 23:49:05\n",
      "####################！！！LGB Running！！！##########################\n"
     ]
    },
    {
     "name": "stderr",
     "output_type": "stream",
     "text": [
      "/mnt/hdd3/liuli/anaconda3/envs/JT/lib/python3.7/site-packages/ipykernel_launcher.py:17: RuntimeWarning: overflow encountered in true_divide\n",
      "/mnt/hdd3/liuli/anaconda3/envs/JT/lib/python3.7/site-packages/numpy/core/_methods.py:160: RuntimeWarning: overflow encountered in reduce\n",
      "  ret = umr_sum(arr, axis, dtype, out, keepdims)\n"
     ]
    },
    {
     "name": "stdout",
     "output_type": "stream",
     "text": [
      "模型的评估结果:\n",
      "PersonR: 0.970551 \n",
      "RMSE: 0.067348 \n",
      "R2: 0.941963 \n",
      "Explained Variance: 0.941966 \n",
      "MSE: 0.004536 \n",
      "MAE: 0.021342 \n",
      "MAPE: inf\n",
      "LGB (0.9705505299982511, 0.06734802030306167, 0.9419631882172664, 0.9419656847485371, 0.004535755838741607, 0.021341717108013847, inf)\n",
      "2021-03-26 00:01:18\n",
      "####################！！！LGB Running！！！##########################\n"
     ]
    },
    {
     "name": "stderr",
     "output_type": "stream",
     "text": [
      "/mnt/hdd3/liuli/anaconda3/envs/JT/lib/python3.7/site-packages/ipykernel_launcher.py:17: RuntimeWarning: overflow encountered in true_divide\n",
      "/mnt/hdd3/liuli/anaconda3/envs/JT/lib/python3.7/site-packages/numpy/core/_methods.py:160: RuntimeWarning: overflow encountered in reduce\n",
      "  ret = umr_sum(arr, axis, dtype, out, keepdims)\n"
     ]
    },
    {
     "name": "stdout",
     "output_type": "stream",
     "text": [
      "模型的评估结果:\n",
      "PersonR: 0.969971 \n",
      "RMSE: 0.067355 \n",
      "R2: 0.940839 \n",
      "Explained Variance: 0.940842 \n",
      "MSE: 0.004537 \n",
      "MAE: 0.021230 \n",
      "MAPE: inf\n",
      "LGB (0.9699713486485821, 0.06735533183312267, 0.9408387116096578, 0.9408419833143535, 0.004536740726350068, 0.021229891178566718, inf)\n",
      "2021-03-26 00:13:35\n",
      "####################！！！LGB Running！！！##########################\n"
     ]
    },
    {
     "name": "stderr",
     "output_type": "stream",
     "text": [
      "/mnt/hdd3/liuli/anaconda3/envs/JT/lib/python3.7/site-packages/ipykernel_launcher.py:17: RuntimeWarning: overflow encountered in true_divide\n"
     ]
    },
    {
     "name": "stdout",
     "output_type": "stream",
     "text": [
      "模型的评估结果:\n",
      "PersonR: 0.969330 \n",
      "RMSE: 0.067397 \n",
      "R2: 0.939597 \n",
      "Explained Variance: 0.939599 \n",
      "MSE: 0.004542 \n",
      "MAE: 0.021231 \n",
      "MAPE: inf\n",
      "LGB (0.9693300455893348, 0.06739736563178936, 0.9395966938866305, 0.939598674643312, 0.0045424048941051015, 0.021231218879015194, inf)\n",
      "2021-03-26 00:25:40\n",
      "####################！！！LGB Running！！！##########################\n"
     ]
    },
    {
     "name": "stderr",
     "output_type": "stream",
     "text": [
      "/mnt/hdd3/liuli/anaconda3/envs/JT/lib/python3.7/site-packages/ipykernel_launcher.py:17: RuntimeWarning: overflow encountered in true_divide\n"
     ]
    },
    {
     "name": "stdout",
     "output_type": "stream",
     "text": [
      "模型的评估结果:\n",
      "PersonR: 0.968593 \n",
      "RMSE: 0.067502 \n",
      "R2: 0.938168 \n",
      "Explained Variance: 0.938170 \n",
      "MSE: 0.004557 \n",
      "MAE: 0.021239 \n",
      "MAPE: inf\n",
      "LGB (0.9685925564211294, 0.06750224836522316, 0.9381678186586908, 0.9381698258543024, 0.004556553534360272, 0.02123920908607949, inf)\n",
      "2021-03-26 00:37:25\n",
      "####################！！！LGB Running！！！##########################\n"
     ]
    },
    {
     "name": "stderr",
     "output_type": "stream",
     "text": [
      "/mnt/hdd3/liuli/anaconda3/envs/JT/lib/python3.7/site-packages/ipykernel_launcher.py:17: RuntimeWarning: overflow encountered in true_divide\n"
     ]
    },
    {
     "name": "stdout",
     "output_type": "stream",
     "text": [
      "模型的评估结果:\n",
      "PersonR: 0.967778 \n",
      "RMSE: 0.067638 \n",
      "R2: 0.936590 \n",
      "Explained Variance: 0.936593 \n",
      "MSE: 0.004575 \n",
      "MAE: 0.021233 \n",
      "MAPE: inf\n",
      "LGB (0.9677784645891349, 0.06763799727494217, 0.9365898964342884, 0.936593147262775, 0.004574898675365084, 0.02123282558507868, inf)\n",
      "2021-03-26 00:48:47\n",
      "####################！！！LGB Running！！！##########################\n"
     ]
    },
    {
     "name": "stderr",
     "output_type": "stream",
     "text": [
      "/mnt/hdd3/liuli/anaconda3/envs/JT/lib/python3.7/site-packages/ipykernel_launcher.py:17: RuntimeWarning: overflow encountered in true_divide\n"
     ]
    },
    {
     "name": "stdout",
     "output_type": "stream",
     "text": [
      "模型的评估结果:\n",
      "PersonR: 0.966923 \n",
      "RMSE: 0.067757 \n",
      "R2: 0.934937 \n",
      "Explained Variance: 0.934938 \n",
      "MSE: 0.004591 \n",
      "MAE: 0.021295 \n",
      "MAPE: inf\n",
      "LGB (0.966923043800449, 0.06775698143289054, 0.9349366956271923, 0.9349384410248106, 0.004591008532897073, 0.021294605083349117, inf)\n",
      "2021-03-26 01:00:34\n",
      "####################！！！LGB Running！！！##########################\n"
     ]
    },
    {
     "name": "stderr",
     "output_type": "stream",
     "text": [
      "/mnt/hdd3/liuli/anaconda3/envs/JT/lib/python3.7/site-packages/ipykernel_launcher.py:17: RuntimeWarning: overflow encountered in true_divide\n"
     ]
    },
    {
     "name": "stdout",
     "output_type": "stream",
     "text": [
      "模型的评估结果:\n",
      "PersonR: 0.965954 \n",
      "RMSE: 0.067932 \n",
      "R2: 0.933063 \n",
      "Explained Variance: 0.933066 \n",
      "MSE: 0.004615 \n",
      "MAE: 0.021239 \n",
      "MAPE: inf\n",
      "LGB (0.9659543970057224, 0.06793217296451752, 0.9330628667222126, 0.9330663372333613, 0.004614780123681126, 0.02123922046612534, inf)\n",
      "2021-03-26 01:12:56\n",
      "####################！！！LGB Running！！！##########################\n"
     ]
    },
    {
     "name": "stderr",
     "output_type": "stream",
     "text": [
      "/mnt/hdd3/liuli/anaconda3/envs/JT/lib/python3.7/site-packages/ipykernel_launcher.py:17: RuntimeWarning: overflow encountered in true_divide\n"
     ]
    },
    {
     "name": "stdout",
     "output_type": "stream",
     "text": [
      "模型的评估结果:\n",
      "PersonR: 0.964892 \n",
      "RMSE: 0.068146 \n",
      "R2: 0.931015 \n",
      "Explained Variance: 0.931017 \n",
      "MSE: 0.004644 \n",
      "MAE: 0.021394 \n",
      "MAPE: inf\n",
      "LGB (0.9648924208049686, 0.06814606971842617, 0.9310154794161268, 0.9310165130081437, 0.0046438868180686, 0.021394286785887475, inf)\n",
      "2021-03-26 01:24:15\n",
      "####################！！！LGB Running！！！##########################\n"
     ]
    },
    {
     "name": "stderr",
     "output_type": "stream",
     "text": [
      "/mnt/hdd3/liuli/anaconda3/envs/JT/lib/python3.7/site-packages/ipykernel_launcher.py:17: RuntimeWarning: overflow encountered in true_divide\n"
     ]
    },
    {
     "name": "stdout",
     "output_type": "stream",
     "text": [
      "模型的评估结果:\n",
      "PersonR: 0.963642 \n",
      "RMSE: 0.068467 \n",
      "R2: 0.928605 \n",
      "Explained Variance: 0.928606 \n",
      "MSE: 0.004688 \n",
      "MAE: 0.021465 \n",
      "MAPE: inf\n",
      "LGB (0.9636423224809827, 0.06846662802547217, 0.9286047086298677, 0.9286057732594767, 0.004687679153178371, 0.02146477391486274, inf)\n",
      "2021-03-26 01:35:38\n",
      "####################！！！LGB Running！！！##########################\n"
     ]
    },
    {
     "name": "stderr",
     "output_type": "stream",
     "text": [
      "/mnt/hdd3/liuli/anaconda3/envs/JT/lib/python3.7/site-packages/ipykernel_launcher.py:17: RuntimeWarning: overflow encountered in true_divide\n",
      "/mnt/hdd3/liuli/anaconda3/envs/JT/lib/python3.7/site-packages/numpy/core/_methods.py:160: RuntimeWarning: overflow encountered in reduce\n",
      "  ret = umr_sum(arr, axis, dtype, out, keepdims)\n"
     ]
    },
    {
     "name": "stdout",
     "output_type": "stream",
     "text": [
      "模型的评估结果:\n",
      "PersonR: 0.962244 \n",
      "RMSE: 0.068862 \n",
      "R2: 0.925912 \n",
      "Explained Variance: 0.925913 \n",
      "MSE: 0.004742 \n",
      "MAE: 0.021580 \n",
      "MAPE: inf\n",
      "LGB (0.9622443896255977, 0.0688616514430431, 0.92591212468641, 0.9259133977127121, 0.00474192703946316, 0.021580223337687592, inf)\n",
      "2021-03-26 01:46:51\n",
      "####################！！！LGB Running！！！##########################\n"
     ]
    },
    {
     "name": "stderr",
     "output_type": "stream",
     "text": [
      "/mnt/hdd3/liuli/anaconda3/envs/JT/lib/python3.7/site-packages/ipykernel_launcher.py:17: RuntimeWarning: overflow encountered in true_divide\n",
      "/mnt/hdd3/liuli/anaconda3/envs/JT/lib/python3.7/site-packages/numpy/core/_methods.py:160: RuntimeWarning: overflow encountered in reduce\n",
      "  ret = umr_sum(arr, axis, dtype, out, keepdims)\n"
     ]
    },
    {
     "name": "stdout",
     "output_type": "stream",
     "text": [
      "模型的评估结果:\n",
      "PersonR: 0.960671 \n",
      "RMSE: 0.069319 \n",
      "R2: 0.922888 \n",
      "Explained Variance: 0.922889 \n",
      "MSE: 0.004805 \n",
      "MAE: 0.021695 \n",
      "MAPE: inf\n",
      "LGB (0.960671491141849, 0.069319395533748, 0.9228878177424187, 0.9228888969001104, 0.004805178597164202, 0.021695455484745163, inf)\n",
      "2021-03-26 01:58:40\n",
      "####################！！！LGB Running！！！##########################\n"
     ]
    },
    {
     "name": "stderr",
     "output_type": "stream",
     "text": [
      "/mnt/hdd3/liuli/anaconda3/envs/JT/lib/python3.7/site-packages/ipykernel_launcher.py:17: RuntimeWarning: overflow encountered in true_divide\n",
      "/mnt/hdd3/liuli/anaconda3/envs/JT/lib/python3.7/site-packages/numpy/core/_methods.py:160: RuntimeWarning: overflow encountered in reduce\n",
      "  ret = umr_sum(arr, axis, dtype, out, keepdims)\n"
     ]
    },
    {
     "name": "stdout",
     "output_type": "stream",
     "text": [
      "模型的评估结果:\n",
      "PersonR: 0.958974 \n",
      "RMSE: 0.069796 \n",
      "R2: 0.919629 \n",
      "Explained Variance: 0.919630 \n",
      "MSE: 0.004872 \n",
      "MAE: 0.021780 \n",
      "MAPE: inf\n",
      "LGB (0.9589740633601785, 0.0697963973189524, 0.9196286662600148, 0.9196303640812383, 0.0048715370787050655, 0.021780308780531776, inf)\n",
      "2021-03-26 02:10:26\n",
      "####################！！！LGB Running！！！##########################\n"
     ]
    },
    {
     "name": "stderr",
     "output_type": "stream",
     "text": [
      "/mnt/hdd3/liuli/anaconda3/envs/JT/lib/python3.7/site-packages/ipykernel_launcher.py:17: RuntimeWarning: overflow encountered in true_divide\n",
      "/mnt/hdd3/liuli/anaconda3/envs/JT/lib/python3.7/site-packages/numpy/core/_methods.py:160: RuntimeWarning: overflow encountered in reduce\n",
      "  ret = umr_sum(arr, axis, dtype, out, keepdims)\n"
     ]
    },
    {
     "name": "stdout",
     "output_type": "stream",
     "text": [
      "模型的评估结果:\n",
      "PersonR: 0.957064 \n",
      "RMSE: 0.070349 \n",
      "R2: 0.915969 \n",
      "Explained Variance: 0.915971 \n",
      "MSE: 0.004949 \n",
      "MAE: 0.021899 \n",
      "MAPE: inf\n",
      "LGB (0.9570640283626202, 0.07034917141238926, 0.9159692461713073, 0.9159708245387979, 0.004949005918409727, 0.02189924531205877, inf)\n",
      "2021-03-26 02:21:58\n",
      "####################！！！LGB Running！！！##########################\n"
     ]
    },
    {
     "name": "stderr",
     "output_type": "stream",
     "text": [
      "/mnt/hdd3/liuli/anaconda3/envs/JT/lib/python3.7/site-packages/ipykernel_launcher.py:17: RuntimeWarning: overflow encountered in true_divide\n"
     ]
    },
    {
     "name": "stdout",
     "output_type": "stream",
     "text": [
      "模型的评估结果:\n",
      "PersonR: 0.954876 \n",
      "RMSE: 0.071015 \n",
      "R2: 0.911787 \n",
      "Explained Variance: 0.911788 \n",
      "MSE: 0.005043 \n",
      "MAE: 0.022116 \n",
      "MAPE: inf\n",
      "LGB (0.9548762849934321, 0.0710148916559014, 0.9117869617626143, 0.911787874912962, 0.005043114836899415, 0.022116201131814752, inf)\n",
      "2021-03-26 02:33:25\n",
      "####################！！！LGB Running！！！##########################\n"
     ]
    },
    {
     "name": "stderr",
     "output_type": "stream",
     "text": [
      "/mnt/hdd3/liuli/anaconda3/envs/JT/lib/python3.7/site-packages/ipykernel_launcher.py:17: RuntimeWarning: overflow encountered in true_divide\n"
     ]
    },
    {
     "name": "stdout",
     "output_type": "stream",
     "text": [
      "模型的评估结果:\n",
      "PersonR: 0.952458 \n",
      "RMSE: 0.071743 \n",
      "R2: 0.907175 \n",
      "Explained Variance: 0.907176 \n",
      "MSE: 0.005147 \n",
      "MAE: 0.022332 \n",
      "MAPE: inf\n",
      "LGB (0.9524582382016664, 0.071743394340545, 0.9071746682731239, 0.9071758140358921, 0.005147114631502943, 0.02233176683643275, inf)\n",
      "2021-03-26 02:45:03\n",
      "####################！！！LGB Running！！！##########################\n"
     ]
    },
    {
     "name": "stderr",
     "output_type": "stream",
     "text": [
      "/mnt/hdd3/liuli/anaconda3/envs/JT/lib/python3.7/site-packages/ipykernel_launcher.py:17: RuntimeWarning: overflow encountered in true_divide\n"
     ]
    },
    {
     "name": "stdout",
     "output_type": "stream",
     "text": [
      "模型的评估结果:\n",
      "PersonR: 0.949742 \n",
      "RMSE: 0.072546 \n",
      "R2: 0.902008 \n",
      "Explained Variance: 0.902009 \n",
      "MSE: 0.005263 \n",
      "MAE: 0.022609 \n",
      "MAPE: inf\n",
      "LGB (0.9497419865979674, 0.07254599220878405, 0.9020081304450013, 0.9020086860054642, 0.005262920985556955, 0.02260856100739529, inf)\n",
      "2021-03-26 02:56:45\n",
      "####################！！！LGB Running！！！##########################\n"
     ]
    },
    {
     "name": "stderr",
     "output_type": "stream",
     "text": [
      "/mnt/hdd3/liuli/anaconda3/envs/JT/lib/python3.7/site-packages/ipykernel_launcher.py:17: RuntimeWarning: overflow encountered in true_divide\n"
     ]
    },
    {
     "name": "stdout",
     "output_type": "stream",
     "text": [
      "模型的评估结果:\n",
      "PersonR: 0.946790 \n",
      "RMSE: 0.073387 \n",
      "R2: 0.896410 \n",
      "Explained Variance: 0.896411 \n",
      "MSE: 0.005386 \n",
      "MAE: 0.022729 \n",
      "MAPE: inf\n",
      "LGB (0.9467904160434092, 0.07338713580088235, 0.8964099955610398, 0.896411032070995, 0.005385671701057149, 0.0227286997561522, inf)\n",
      "2021-03-26 03:09:56\n",
      "####################！！！LGB Running！！！##########################\n"
     ]
    },
    {
     "name": "stderr",
     "output_type": "stream",
     "text": [
      "/mnt/hdd3/liuli/anaconda3/envs/JT/lib/python3.7/site-packages/ipykernel_launcher.py:17: RuntimeWarning: overflow encountered in true_divide\n",
      "/mnt/hdd3/liuli/anaconda3/envs/JT/lib/python3.7/site-packages/numpy/core/_methods.py:160: RuntimeWarning: overflow encountered in reduce\n",
      "  ret = umr_sum(arr, axis, dtype, out, keepdims)\n"
     ]
    },
    {
     "name": "stdout",
     "output_type": "stream",
     "text": [
      "模型的评估结果:\n",
      "PersonR: 0.943446 \n",
      "RMSE: 0.074332 \n",
      "R2: 0.890088 \n",
      "Explained Variance: 0.890089 \n",
      "MSE: 0.005525 \n",
      "MAE: 0.023010 \n",
      "MAPE: inf\n",
      "LGB (0.9434457303403425, 0.07433198872159076, 0.890087969249678, 0.8900887657266087, 0.005525244547306695, 0.023010438074796462, inf)\n",
      "2021-03-26 03:21:37\n",
      "####################！！！LGB Running！！！##########################\n"
     ]
    },
    {
     "name": "stderr",
     "output_type": "stream",
     "text": [
      "/mnt/hdd3/liuli/anaconda3/envs/JT/lib/python3.7/site-packages/ipykernel_launcher.py:17: RuntimeWarning: overflow encountered in true_divide\n",
      "/mnt/hdd3/liuli/anaconda3/envs/JT/lib/python3.7/site-packages/numpy/core/_methods.py:160: RuntimeWarning: overflow encountered in reduce\n",
      "  ret = umr_sum(arr, axis, dtype, out, keepdims)\n"
     ]
    },
    {
     "name": "stdout",
     "output_type": "stream",
     "text": [
      "模型的评估结果:\n",
      "PersonR: 0.939753 \n",
      "RMSE: 0.075337 \n",
      "R2: 0.883133 \n",
      "Explained Variance: 0.883135 \n",
      "MSE: 0.005676 \n",
      "MAE: 0.023239 \n",
      "MAPE: inf\n",
      "LGB (0.9397529302364779, 0.0753370695524785, 0.8831334313690787, 0.8831347962991156, 0.005675674048754984, 0.023239116557892875, inf)\n",
      "2021-03-26 03:33:12\n",
      "####################！！！LGB Running！！！##########################\n"
     ]
    },
    {
     "name": "stderr",
     "output_type": "stream",
     "text": [
      "/mnt/hdd3/liuli/anaconda3/envs/JT/lib/python3.7/site-packages/ipykernel_launcher.py:17: RuntimeWarning: overflow encountered in true_divide\n"
     ]
    },
    {
     "name": "stdout",
     "output_type": "stream",
     "text": [
      "模型的评估结果:\n",
      "PersonR: 0.935621 \n",
      "RMSE: 0.076438 \n",
      "R2: 0.875384 \n",
      "Explained Variance: 0.875385 \n",
      "MSE: 0.005843 \n",
      "MAE: 0.023577 \n",
      "MAPE: inf\n",
      "LGB (0.9356208264943058, 0.07643841870410224, 0.8753837221750461, 0.8753848976020677, 0.005842831853983647, 0.02357670201896477, inf)\n",
      "2021-03-26 03:44:26\n",
      "####################！！！LGB Running！！！##########################\n"
     ]
    },
    {
     "name": "stderr",
     "output_type": "stream",
     "text": [
      "/mnt/hdd3/liuli/anaconda3/envs/JT/lib/python3.7/site-packages/ipykernel_launcher.py:17: RuntimeWarning: overflow encountered in true_divide\n"
     ]
    },
    {
     "name": "stdout",
     "output_type": "stream",
     "text": [
      "模型的评估结果:\n",
      "PersonR: 0.931018 \n",
      "RMSE: 0.077627 \n",
      "R2: 0.866793 \n",
      "Explained Variance: 0.866794 \n",
      "MSE: 0.006026 \n",
      "MAE: 0.023897 \n",
      "MAPE: inf\n",
      "LGB (0.9310183019294813, 0.07762676889523978, 0.8667927502342863, 0.8667941245029852, 0.006025915249114966, 0.02389657577313485, inf)\n",
      "2021-03-26 03:55:21\n",
      "####################！！！LGB Running！！！##########################\n"
     ]
    },
    {
     "name": "stderr",
     "output_type": "stream",
     "text": [
      "/mnt/hdd3/liuli/anaconda3/envs/JT/lib/python3.7/site-packages/ipykernel_launcher.py:17: RuntimeWarning: overflow encountered in true_divide\n"
     ]
    },
    {
     "name": "stdout",
     "output_type": "stream",
     "text": [
      "模型的评估结果:\n",
      "PersonR: 0.925928 \n",
      "RMSE: 0.078867 \n",
      "R2: 0.857341 \n",
      "Explained Variance: 0.857342 \n",
      "MSE: 0.006220 \n",
      "MAE: 0.024314 \n",
      "MAPE: inf\n",
      "LGB (0.9259282372808811, 0.07886741629628599, 0.8573409198213995, 0.8573417694145632, 0.006220069353251677, 0.02431426068859238, inf)\n",
      "2021-03-26 04:06:27\n",
      "####################！！！LGB Running！！！##########################\n"
     ]
    },
    {
     "name": "stderr",
     "output_type": "stream",
     "text": [
      "/mnt/hdd3/liuli/anaconda3/envs/JT/lib/python3.7/site-packages/ipykernel_launcher.py:17: RuntimeWarning: overflow encountered in true_divide\n",
      "/mnt/hdd3/liuli/anaconda3/envs/JT/lib/python3.7/site-packages/numpy/core/_methods.py:160: RuntimeWarning: overflow encountered in reduce\n",
      "  ret = umr_sum(arr, axis, dtype, out, keepdims)\n"
     ]
    },
    {
     "name": "stdout",
     "output_type": "stream",
     "text": [
      "模型的评估结果:\n",
      "PersonR: 0.920382 \n",
      "RMSE: 0.080127 \n",
      "R2: 0.847101 \n",
      "Explained Variance: 0.847102 \n",
      "MSE: 0.006420 \n",
      "MAE: 0.024711 \n",
      "MAPE: inf\n",
      "LGB (0.9203815739133213, 0.08012653701818054, 0.8471008280244028, 0.8471017587712104, 0.006420261934525857, 0.02471139663873746, inf)\n",
      "2021-03-26 04:17:50\n",
      "####################！！！LGB Running！！！##########################\n"
     ]
    },
    {
     "name": "stderr",
     "output_type": "stream",
     "text": [
      "/mnt/hdd3/liuli/anaconda3/envs/JT/lib/python3.7/site-packages/ipykernel_launcher.py:17: RuntimeWarning: overflow encountered in true_divide\n"
     ]
    },
    {
     "name": "stdout",
     "output_type": "stream",
     "text": [
      "模型的评估结果:\n",
      "PersonR: 0.914415 \n",
      "RMSE: 0.081364 \n",
      "R2: 0.836154 \n",
      "Explained Variance: 0.836154 \n",
      "MSE: 0.006620 \n",
      "MAE: 0.025165 \n",
      "MAPE: inf\n",
      "LGB (0.9144151078883568, 0.08136399231909185, 0.8361541896999503, 0.8361543024818705, 0.006620099246101237, 0.02516460866998057, inf)\n",
      "2021-03-26 04:29:13\n",
      "####################！！！LGB Running！！！##########################\n"
     ]
    },
    {
     "name": "stderr",
     "output_type": "stream",
     "text": [
      "/mnt/hdd3/liuli/anaconda3/envs/JT/lib/python3.7/site-packages/ipykernel_launcher.py:17: RuntimeWarning: overflow encountered in true_divide\n"
     ]
    },
    {
     "name": "stdout",
     "output_type": "stream",
     "text": [
      "模型的评估结果:\n",
      "PersonR: 0.908110 \n",
      "RMSE: 0.082526 \n",
      "R2: 0.824662 \n",
      "Explained Variance: 0.824662 \n",
      "MSE: 0.006811 \n",
      "MAE: 0.025509 \n",
      "MAPE: inf\n",
      "LGB (0.9081098063197782, 0.08252621628316588, 0.824662339645527, 0.8246623825909285, 0.006810576374015873, 0.025509464817825393, inf)\n",
      "2021-03-26 04:40:26\n",
      "####################！！！LGB Running！！！##########################\n"
     ]
    },
    {
     "name": "stderr",
     "output_type": "stream",
     "text": [
      "/mnt/hdd3/liuli/anaconda3/envs/JT/lib/python3.7/site-packages/ipykernel_launcher.py:17: RuntimeWarning: overflow encountered in true_divide\n"
     ]
    },
    {
     "name": "stdout",
     "output_type": "stream",
     "text": [
      "模型的评估结果:\n",
      "PersonR: 0.901503 \n",
      "RMSE: 0.083582 \n",
      "R2: 0.812706 \n",
      "Explained Variance: 0.812706 \n",
      "MSE: 0.006986 \n",
      "MAE: 0.025816 \n",
      "MAPE: inf\n",
      "LGB (0.9015026997070537, 0.08358241945670232, 0.8127056238781718, 0.8127056448856455, 0.00698602084223613, 0.025815688429991202, inf)\n",
      "2021-03-26 04:51:47\n",
      "####################！！！LGB Running！！！##########################\n"
     ]
    },
    {
     "name": "stderr",
     "output_type": "stream",
     "text": [
      "/mnt/hdd3/liuli/anaconda3/envs/JT/lib/python3.7/site-packages/ipykernel_launcher.py:17: RuntimeWarning: overflow encountered in true_divide\n",
      "/mnt/hdd3/liuli/anaconda3/envs/JT/lib/python3.7/site-packages/numpy/core/_methods.py:160: RuntimeWarning: overflow encountered in reduce\n",
      "  ret = umr_sum(arr, axis, dtype, out, keepdims)\n"
     ]
    },
    {
     "name": "stdout",
     "output_type": "stream",
     "text": [
      "模型的评估结果:\n",
      "PersonR: 0.894441 \n",
      "RMSE: 0.084569 \n",
      "R2: 0.800023 \n",
      "Explained Variance: 0.800023 \n",
      "MSE: 0.007152 \n",
      "MAE: 0.026071 \n",
      "MAPE: inf\n",
      "LGB (0.8944409240869159, 0.08456920556793816, 0.8000228951390735, 0.8000229858383795, 0.007151950530392183, 0.02607064347839992, inf)\n",
      "2021-03-26 05:03:10\n",
      "####################！！！LGB Running！！！##########################\n"
     ]
    },
    {
     "name": "stderr",
     "output_type": "stream",
     "text": [
      "/mnt/hdd3/liuli/anaconda3/envs/JT/lib/python3.7/site-packages/ipykernel_launcher.py:17: RuntimeWarning: overflow encountered in true_divide\n",
      "/mnt/hdd3/liuli/anaconda3/envs/JT/lib/python3.7/site-packages/numpy/core/_methods.py:160: RuntimeWarning: overflow encountered in reduce\n",
      "  ret = umr_sum(arr, axis, dtype, out, keepdims)\n"
     ]
    },
    {
     "name": "stdout",
     "output_type": "stream",
     "text": [
      "模型的评估结果:\n",
      "PersonR: 0.887004 \n",
      "RMSE: 0.085477 \n",
      "R2: 0.786775 \n",
      "Explained Variance: 0.786775 \n",
      "MSE: 0.007306 \n",
      "MAE: 0.026291 \n",
      "MAPE: inf\n",
      "LGB (0.8870041034433279, 0.08547717705507868, 0.7867750753058331, 0.7867751242609244, 0.00730634779730527, 0.026291038597101767, inf)\n",
      "2021-03-26 05:14:40\n",
      "####################！！！LGB Running！！！##########################\n"
     ]
    },
    {
     "name": "stderr",
     "output_type": "stream",
     "text": [
      "/mnt/hdd3/liuli/anaconda3/envs/JT/lib/python3.7/site-packages/ipykernel_launcher.py:17: RuntimeWarning: overflow encountered in true_divide\n"
     ]
    },
    {
     "name": "stdout",
     "output_type": "stream",
     "text": [
      "模型的评估结果:\n",
      "PersonR: 0.879123 \n",
      "RMSE: 0.086315 \n",
      "R2: 0.772855 \n",
      "Explained Variance: 0.772855 \n",
      "MSE: 0.007450 \n",
      "MAE: 0.026432 \n",
      "MAPE: inf\n",
      "LGB (0.8791226503924392, 0.08631506716953567, 0.7728553327389924, 0.7728554233300879, 0.007450290820481455, 0.026432101477097868, inf)\n",
      "2021-03-26 05:26:38\n",
      "####################！！！LGB Running！！！##########################\n"
     ]
    },
    {
     "name": "stderr",
     "output_type": "stream",
     "text": [
      "/mnt/hdd3/liuli/anaconda3/envs/JT/lib/python3.7/site-packages/ipykernel_launcher.py:17: RuntimeWarning: overflow encountered in true_divide\n",
      "/mnt/hdd3/liuli/anaconda3/envs/JT/lib/python3.7/site-packages/numpy/core/_methods.py:160: RuntimeWarning: overflow encountered in reduce\n",
      "  ret = umr_sum(arr, axis, dtype, out, keepdims)\n"
     ]
    },
    {
     "name": "stdout",
     "output_type": "stream",
     "text": [
      "模型的评估结果:\n",
      "PersonR: 0.870793 \n",
      "RMSE: 0.087063 \n",
      "R2: 0.758277 \n",
      "Explained Variance: 0.758279 \n",
      "MSE: 0.007580 \n",
      "MAE: 0.026515 \n",
      "MAPE: inf\n",
      "LGB (0.8707930129576089, 0.08706257027013724, 0.7582771148231681, 0.7582787114689706, 0.007579891142042584, 0.026515121139069737, inf)\n",
      "2021-03-26 05:37:57\n",
      "####################！！！LGB Running！！！##########################\n"
     ]
    },
    {
     "name": "stderr",
     "output_type": "stream",
     "text": [
      "/mnt/hdd3/liuli/anaconda3/envs/JT/lib/python3.7/site-packages/ipykernel_launcher.py:17: RuntimeWarning: overflow encountered in true_divide\n"
     ]
    },
    {
     "name": "stdout",
     "output_type": "stream",
     "text": [
      "模型的评估结果:\n",
      "PersonR: 0.862202 \n",
      "RMSE: 0.087663 \n",
      "R2: 0.743390 \n",
      "Explained Variance: 0.743392 \n",
      "MSE: 0.007685 \n",
      "MAE: 0.026529 \n",
      "MAPE: inf\n",
      "LGB (0.8622024782622733, 0.08766293491718502, 0.743389800435786, 0.7433916273132526, 0.007684790158294617, 0.02652937526664105, inf)\n",
      "2021-03-26 05:49:51\n",
      "####################！！！LGB Running！！！##########################\n"
     ]
    },
    {
     "name": "stderr",
     "output_type": "stream",
     "text": [
      "/mnt/hdd3/liuli/anaconda3/envs/JT/lib/python3.7/site-packages/ipykernel_launcher.py:17: RuntimeWarning: overflow encountered in true_divide\n"
     ]
    },
    {
     "name": "stdout",
     "output_type": "stream",
     "text": [
      "模型的评估结果:\n",
      "PersonR: 0.852983 \n",
      "RMSE: 0.088220 \n",
      "R2: 0.727577 \n",
      "Explained Variance: 0.727578 \n",
      "MSE: 0.007783 \n",
      "MAE: 0.026598 \n",
      "MAPE: inf\n",
      "LGB (0.8529825499553636, 0.08821999593640167, 0.7275766788105373, 0.7275776845353461, 0.007782767683018727, 0.026597888124044355, inf)\n",
      "2021-03-26 06:01:46\n",
      "####################！！！LGB Running！！！##########################\n"
     ]
    },
    {
     "name": "stderr",
     "output_type": "stream",
     "text": [
      "/mnt/hdd3/liuli/anaconda3/envs/JT/lib/python3.7/site-packages/ipykernel_launcher.py:17: RuntimeWarning: overflow encountered in true_divide\n",
      "/mnt/hdd3/liuli/anaconda3/envs/JT/lib/python3.7/site-packages/numpy/core/_methods.py:160: RuntimeWarning: overflow encountered in reduce\n",
      "  ret = umr_sum(arr, axis, dtype, out, keepdims)\n"
     ]
    },
    {
     "name": "stdout",
     "output_type": "stream",
     "text": [
      "模型的评估结果:\n",
      "PersonR: 0.843296 \n",
      "RMSE: 0.088707 \n",
      "R2: 0.711144 \n",
      "Explained Variance: 0.711146 \n",
      "MSE: 0.007869 \n",
      "MAE: 0.026561 \n",
      "MAPE: inf\n",
      "LGB (0.8432963595528019, 0.08870667163481914, 0.7111436510129898, 0.7111464527640111, 0.007868873592527626, 0.02656111024541598, inf)\n",
      "2021-03-26 06:14:11\n",
      "####################！！！LGB Running！！！##########################\n"
     ]
    },
    {
     "name": "stderr",
     "output_type": "stream",
     "text": [
      "/mnt/hdd3/liuli/anaconda3/envs/JT/lib/python3.7/site-packages/ipykernel_launcher.py:17: RuntimeWarning: overflow encountered in true_divide\n"
     ]
    },
    {
     "name": "stdout",
     "output_type": "stream",
     "text": [
      "模型的评估结果:\n",
      "PersonR: 0.832865 \n",
      "RMSE: 0.089171 \n",
      "R2: 0.693660 \n",
      "Explained Variance: 0.693663 \n",
      "MSE: 0.007951 \n",
      "MAE: 0.026664 \n",
      "MAPE: inf\n",
      "LGB (0.8328651920317495, 0.08917054974050921, 0.6936598805646056, 0.6936627640275681, 0.007951386941024628, 0.02666385804173831, inf)\n",
      "2021-03-26 06:25:24\n",
      "####################！！！LGB Running！！！##########################\n"
     ]
    },
    {
     "name": "stderr",
     "output_type": "stream",
     "text": [
      "/mnt/hdd3/liuli/anaconda3/envs/JT/lib/python3.7/site-packages/ipykernel_launcher.py:17: RuntimeWarning: overflow encountered in true_divide\n",
      "/mnt/hdd3/liuli/anaconda3/envs/JT/lib/python3.7/site-packages/numpy/core/_methods.py:160: RuntimeWarning: overflow encountered in reduce\n",
      "  ret = umr_sum(arr, axis, dtype, out, keepdims)\n"
     ]
    },
    {
     "name": "stdout",
     "output_type": "stream",
     "text": [
      "模型的评估结果:\n",
      "PersonR: 0.821607 \n",
      "RMSE: 0.089660 \n",
      "R2: 0.675035 \n",
      "Explained Variance: 0.675036 \n",
      "MSE: 0.008039 \n",
      "MAE: 0.026903 \n",
      "MAPE: inf\n",
      "LGB (0.82160727784592, 0.08965969150976431, 0.6750352473406633, 0.6750364900678156, 0.008038860281626103, 0.02690291402816428, inf)\n",
      "2021-03-26 06:37:10\n",
      "####################！！！LGB Running！！！##########################\n"
     ]
    },
    {
     "name": "stderr",
     "output_type": "stream",
     "text": [
      "/mnt/hdd3/liuli/anaconda3/envs/JT/lib/python3.7/site-packages/ipykernel_launcher.py:17: RuntimeWarning: overflow encountered in true_divide\n"
     ]
    },
    {
     "name": "stdout",
     "output_type": "stream",
     "text": [
      "模型的评估结果:\n",
      "PersonR: 0.809902 \n",
      "RMSE: 0.090055 \n",
      "R2: 0.655937 \n",
      "Explained Variance: 0.655939 \n",
      "MSE: 0.008110 \n",
      "MAE: 0.027054 \n",
      "MAPE: inf\n",
      "LGB (0.8099024223827372, 0.09005517312371179, 0.6559374844150117, 0.6559389133503816, 0.008109934206341703, 0.02705442996585882, inf)\n",
      "2021-03-26 06:50:02\n",
      "####################！！！LGB Running！！！##########################\n"
     ]
    },
    {
     "name": "stderr",
     "output_type": "stream",
     "text": [
      "/mnt/hdd3/liuli/anaconda3/envs/JT/lib/python3.7/site-packages/ipykernel_launcher.py:17: RuntimeWarning: overflow encountered in true_divide\n"
     ]
    },
    {
     "name": "stdout",
     "output_type": "stream",
     "text": [
      "模型的评估结果:\n",
      "PersonR: 0.797909 \n",
      "RMSE: 0.090261 \n",
      "R2: 0.636654 \n",
      "Explained Variance: 0.636655 \n",
      "MSE: 0.008147 \n",
      "MAE: 0.027102 \n",
      "MAPE: inf\n",
      "LGB (0.7979089363090645, 0.09026060018958319, 0.63665411739548, 0.6366551983642819, 0.008146975946583784, 0.027102006722799568, inf)\n",
      "2021-03-26 07:02:11\n",
      "####################！！！LGB Running！！！##########################\n"
     ]
    },
    {
     "name": "stderr",
     "output_type": "stream",
     "text": [
      "/mnt/hdd3/liuli/anaconda3/envs/JT/lib/python3.7/site-packages/ipykernel_launcher.py:17: RuntimeWarning: overflow encountered in true_divide\n"
     ]
    },
    {
     "name": "stdout",
     "output_type": "stream",
     "text": [
      "模型的评估结果:\n",
      "PersonR: 0.785739 \n",
      "RMSE: 0.090286 \n",
      "R2: 0.617380 \n",
      "Explained Variance: 0.617382 \n",
      "MSE: 0.008152 \n",
      "MAE: 0.026987 \n",
      "MAPE: inf\n",
      "LGB (0.7857390491329826, 0.09028567697609059, 0.6173803307531919, 0.6173820151493652, 0.008151503467030976, 0.026986950932681636, inf)\n",
      "2021-03-26 07:14:14\n",
      "####################！！！LGB Running！！！##########################\n"
     ]
    },
    {
     "name": "stderr",
     "output_type": "stream",
     "text": [
      "/mnt/hdd3/liuli/anaconda3/envs/JT/lib/python3.7/site-packages/ipykernel_launcher.py:17: RuntimeWarning: overflow encountered in true_divide\n"
     ]
    },
    {
     "name": "stdout",
     "output_type": "stream",
     "text": [
      "模型的评估结果:\n",
      "PersonR: 0.773135 \n",
      "RMSE: 0.090194 \n",
      "R2: 0.597734 \n",
      "Explained Variance: 0.597735 \n",
      "MSE: 0.008135 \n",
      "MAE: 0.026881 \n",
      "MAPE: inf\n",
      "LGB (0.7731354319244252, 0.09019375663192852, 0.5977339754660628, 0.5977345550021803, 0.00813491373537955, 0.026880796275984126, inf)\n",
      "2021-03-26 07:26:26\n",
      "####################！！！LGB Running！！！##########################\n"
     ]
    },
    {
     "name": "stderr",
     "output_type": "stream",
     "text": [
      "/mnt/hdd3/liuli/anaconda3/envs/JT/lib/python3.7/site-packages/ipykernel_launcher.py:17: RuntimeWarning: overflow encountered in true_divide\n"
     ]
    },
    {
     "name": "stdout",
     "output_type": "stream",
     "text": [
      "模型的评估结果:\n",
      "PersonR: 0.760237 \n",
      "RMSE: 0.090003 \n",
      "R2: 0.577954 \n",
      "Explained Variance: 0.577955 \n",
      "MSE: 0.008100 \n",
      "MAE: 0.026611 \n",
      "MAPE: inf\n",
      "LGB (0.7602372070553596, 0.09000268832522179, 0.5779536197585947, 0.5779554104350753, 0.008100483905767014, 0.026611446119501933, inf)\n",
      "2021-03-26 07:38:37\n",
      "####################！！！LGB Running！！！##########################\n"
     ]
    },
    {
     "name": "stderr",
     "output_type": "stream",
     "text": [
      "/mnt/hdd3/liuli/anaconda3/envs/JT/lib/python3.7/site-packages/ipykernel_launcher.py:17: RuntimeWarning: overflow encountered in true_divide\n"
     ]
    },
    {
     "name": "stdout",
     "output_type": "stream",
     "text": [
      "模型的评估结果:\n",
      "PersonR: 0.747064 \n",
      "RMSE: 0.089673 \n",
      "R2: 0.558098 \n",
      "Explained Variance: 0.558099 \n",
      "MSE: 0.008041 \n",
      "MAE: 0.026373 \n",
      "MAPE: inf\n",
      "LGB (0.7470638858062097, 0.08967267083458537, 0.5580981963143852, 0.5580987301537623, 0.008041187894607898, 0.02637295284927114, inf)\n",
      "2021-03-26 07:50:57\n",
      "####################！！！LGB Running！！！##########################\n"
     ]
    },
    {
     "name": "stderr",
     "output_type": "stream",
     "text": [
      "/mnt/hdd3/liuli/anaconda3/envs/JT/lib/python3.7/site-packages/ipykernel_launcher.py:17: RuntimeWarning: overflow encountered in true_divide\n",
      "/mnt/hdd3/liuli/anaconda3/envs/JT/lib/python3.7/site-packages/numpy/core/_methods.py:160: RuntimeWarning: overflow encountered in reduce\n",
      "  ret = umr_sum(arr, axis, dtype, out, keepdims)\n"
     ]
    },
    {
     "name": "stdout",
     "output_type": "stream",
     "text": [
      "模型的评估结果:\n",
      "PersonR: 0.733766 \n",
      "RMSE: 0.089194 \n",
      "R2: 0.538408 \n",
      "Explained Variance: 0.538408 \n",
      "MSE: 0.007956 \n",
      "MAE: 0.026016 \n",
      "MAPE: inf\n",
      "LGB (0.7337661210632078, 0.08919378909180886, 0.5384076173673744, 0.5384077035330125, 0.00795553201255408, 0.026015735241447718, inf)\n",
      "2021-03-26 08:03:11\n",
      "####################！！！LGB Running！！！##########################\n"
     ]
    },
    {
     "name": "stderr",
     "output_type": "stream",
     "text": [
      "/mnt/hdd3/liuli/anaconda3/envs/JT/lib/python3.7/site-packages/ipykernel_launcher.py:17: RuntimeWarning: overflow encountered in true_divide\n"
     ]
    },
    {
     "name": "stdout",
     "output_type": "stream",
     "text": [
      "模型的评估结果:\n",
      "PersonR: 0.720399 \n",
      "RMSE: 0.088547 \n",
      "R2: 0.518970 \n",
      "Explained Variance: 0.518970 \n",
      "MSE: 0.007841 \n",
      "MAE: 0.025589 \n",
      "MAPE: inf\n",
      "LGB (0.7203985429522058, 0.08854746319551503, 0.5189696553224568, 0.5189696611400944, 0.007840653238361087, 0.02558925373221008, inf)\n",
      "2021-03-26 08:15:51\n",
      "####################！！！LGB Running！！！##########################\n"
     ]
    },
    {
     "name": "stderr",
     "output_type": "stream",
     "text": [
      "/mnt/hdd3/liuli/anaconda3/envs/JT/lib/python3.7/site-packages/ipykernel_launcher.py:17: RuntimeWarning: overflow encountered in true_divide\n"
     ]
    },
    {
     "name": "stdout",
     "output_type": "stream",
     "text": [
      "模型的评估结果:\n",
      "PersonR: 0.707017 \n",
      "RMSE: 0.087743 \n",
      "R2: 0.499867 \n",
      "Explained Variance: 0.499868 \n",
      "MSE: 0.007699 \n",
      "MAE: 0.025000 \n",
      "MAPE: inf\n",
      "LGB (0.7070174809965032, 0.08774323127049187, 0.49986652688714484, 0.4998680915639805, 0.0076988746337870225, 0.02500003436799136, inf)\n",
      "2021-03-26 08:28:22\n",
      "####################！！！LGB Running！！！##########################\n"
     ]
    },
    {
     "name": "stderr",
     "output_type": "stream",
     "text": [
      "/mnt/hdd3/liuli/anaconda3/envs/JT/lib/python3.7/site-packages/ipykernel_launcher.py:17: RuntimeWarning: overflow encountered in true_divide\n"
     ]
    },
    {
     "name": "stdout",
     "output_type": "stream",
     "text": [
      "模型的评估结果:\n",
      "PersonR: 0.693459 \n",
      "RMSE: 0.086832 \n",
      "R2: 0.480875 \n",
      "Explained Variance: 0.480879 \n",
      "MSE: 0.007540 \n",
      "MAE: 0.024434 \n",
      "MAPE: inf\n",
      "LGB (0.6934592324270944, 0.08683176198093283, 0.4808748069725185, 0.4808791919195964, 0.007539754888713373, 0.024434211890444566, inf)\n",
      "2021-03-26 08:40:38\n",
      "####################！！！LGB Running！！！##########################\n"
     ]
    },
    {
     "name": "stderr",
     "output_type": "stream",
     "text": [
      "/mnt/hdd3/liuli/anaconda3/envs/JT/lib/python3.7/site-packages/ipykernel_launcher.py:17: RuntimeWarning: overflow encountered in true_divide\n"
     ]
    },
    {
     "name": "stdout",
     "output_type": "stream",
     "text": [
      "模型的评估结果:\n",
      "PersonR: 0.680052 \n",
      "RMSE: 0.085746 \n",
      "R2: 0.462452 \n",
      "Explained Variance: 0.462462 \n",
      "MSE: 0.007352 \n",
      "MAE: 0.023718 \n",
      "MAPE: inf\n",
      "LGB (0.6800519123371663, 0.08574600286033107, 0.46245213370568217, 0.46246246047779627, 0.007352377006523905, 0.023718208066571086, inf)\n",
      "2021-03-26 08:53:10\n",
      "####################！！！LGB Running！！！##########################\n"
     ]
    },
    {
     "name": "stderr",
     "output_type": "stream",
     "text": [
      "/mnt/hdd3/liuli/anaconda3/envs/JT/lib/python3.7/site-packages/ipykernel_launcher.py:17: RuntimeWarning: overflow encountered in true_divide\n"
     ]
    },
    {
     "name": "stdout",
     "output_type": "stream",
     "text": [
      "模型的评估结果:\n",
      "PersonR: 0.666984 \n",
      "RMSE: 0.084479 \n",
      "R2: 0.444855 \n",
      "Explained Variance: 0.444861 \n",
      "MSE: 0.007137 \n",
      "MAE: 0.023068 \n",
      "MAPE: inf\n",
      "LGB (0.6669843406327567, 0.08447946655307324, 0.44485501060575894, 0.44486108728593843, 0.0071367802690918206, 0.023067752824891975, inf)\n",
      "2021-03-26 09:05:30\n",
      "####################！！！LGB Running！！！##########################\n"
     ]
    },
    {
     "name": "stderr",
     "output_type": "stream",
     "text": [
      "/mnt/hdd3/liuli/anaconda3/envs/JT/lib/python3.7/site-packages/ipykernel_launcher.py:17: RuntimeWarning: overflow encountered in true_divide\n"
     ]
    },
    {
     "name": "stdout",
     "output_type": "stream",
     "text": [
      "模型的评估结果:\n",
      "PersonR: 0.654418 \n",
      "RMSE: 0.083025 \n",
      "R2: 0.428257 \n",
      "Explained Variance: 0.428258 \n",
      "MSE: 0.006893 \n",
      "MAE: 0.022392 \n",
      "MAPE: inf\n",
      "LGB (0.6544180304263754, 0.0830250877510605, 0.428257122930364, 0.42825776144915184, 0.006893165196071297, 0.022391530421844174, inf)\n",
      "2021-03-26 09:18:27\n",
      "####################！！！LGB Running！！！##########################\n"
     ]
    },
    {
     "name": "stderr",
     "output_type": "stream",
     "text": [
      "/mnt/hdd3/liuli/anaconda3/envs/JT/lib/python3.7/site-packages/ipykernel_launcher.py:17: RuntimeWarning: overflow encountered in true_divide\n"
     ]
    },
    {
     "name": "stdout",
     "output_type": "stream",
     "text": [
      "模型的评估结果:\n",
      "PersonR: 0.642252 \n",
      "RMSE: 0.081481 \n",
      "R2: 0.412476 \n",
      "Explained Variance: 0.412481 \n",
      "MSE: 0.006639 \n",
      "MAE: 0.021486 \n",
      "MAPE: inf\n",
      "LGB (0.6422522345262974, 0.08148068223631738, 0.41247609288955256, 0.41248081984922114, 0.006639101577695727, 0.02148639955533175, inf)\n",
      "2021-03-26 09:31:13\n",
      "####################！！！LGB Running！！！##########################\n"
     ]
    },
    {
     "name": "stderr",
     "output_type": "stream",
     "text": [
      "/mnt/hdd3/liuli/anaconda3/envs/JT/lib/python3.7/site-packages/ipykernel_launcher.py:17: RuntimeWarning: overflow encountered in true_divide\n"
     ]
    },
    {
     "name": "stdout",
     "output_type": "stream",
     "text": [
      "模型的评估结果:\n",
      "PersonR: 0.630281 \n",
      "RMSE: 0.079852 \n",
      "R2: 0.397251 \n",
      "Explained Variance: 0.397251 \n",
      "MSE: 0.006376 \n",
      "MAE: 0.020791 \n",
      "MAPE: inf\n",
      "LGB (0.6302814791498562, 0.07985192020099843, 0.39725110091410887, 0.3972511060065498, 0.0063763291597866215, 0.02079080180213368, inf)\n",
      "2021-03-26 09:43:59\n",
      "####################！！！LGB Running！！！##########################\n"
     ]
    },
    {
     "name": "stderr",
     "output_type": "stream",
     "text": [
      "/mnt/hdd3/liuli/anaconda3/envs/JT/lib/python3.7/site-packages/ipykernel_launcher.py:17: RuntimeWarning: overflow encountered in true_divide\n"
     ]
    },
    {
     "name": "stdout",
     "output_type": "stream",
     "text": [
      "模型的评估结果:\n",
      "PersonR: 0.618645 \n",
      "RMSE: 0.078157 \n",
      "R2: 0.382718 \n",
      "Explained Variance: 0.382718 \n",
      "MSE: 0.006109 \n",
      "MAE: 0.019988 \n",
      "MAPE: inf\n",
      "LGB (0.6186447268977846, 0.07815721169155121, 0.38271798719685, 0.38271802815220535, 0.006108549739397949, 0.01998845730987525, inf)\n",
      "2021-03-26 09:56:31\n",
      "####################！！！LGB Running！！！##########################\n"
     ]
    },
    {
     "name": "stderr",
     "output_type": "stream",
     "text": [
      "/mnt/hdd3/liuli/anaconda3/envs/JT/lib/python3.7/site-packages/ipykernel_launcher.py:17: RuntimeWarning: overflow encountered in true_divide\n"
     ]
    },
    {
     "name": "stdout",
     "output_type": "stream",
     "text": [
      "模型的评估结果:\n",
      "PersonR: 0.607417 \n",
      "RMSE: 0.076350 \n",
      "R2: 0.368952 \n",
      "Explained Variance: 0.368952 \n",
      "MSE: 0.005829 \n",
      "MAE: 0.019145 \n",
      "MAPE: inf\n",
      "LGB (0.6074167708866905, 0.0763504128552453, 0.3689519100444155, 0.3689520587867958, 0.005829385543166405, 0.01914527722729173, inf)\n",
      "2021-03-26 10:09:45\n",
      "####################！！！LGB Running！！！##########################\n"
     ]
    },
    {
     "name": "stderr",
     "output_type": "stream",
     "text": [
      "/mnt/hdd3/liuli/anaconda3/envs/JT/lib/python3.7/site-packages/ipykernel_launcher.py:17: RuntimeWarning: overflow encountered in true_divide\n"
     ]
    },
    {
     "name": "stdout",
     "output_type": "stream",
     "text": [
      "模型的评估结果:\n",
      "PersonR: 0.596701 \n",
      "RMSE: 0.074405 \n",
      "R2: 0.356049 \n",
      "Explained Variance: 0.356049 \n",
      "MSE: 0.005536 \n",
      "MAE: 0.018289 \n",
      "MAPE: inf\n",
      "LGB (0.5967006310983543, 0.07440539719543311, 0.35604869216616997, 0.3560494839195393, 0.005536163131810166, 0.018288954412535533, inf)\n",
      "2021-03-26 10:23:02\n",
      "####################！！！LGB Running！！！##########################\n"
     ]
    },
    {
     "name": "stderr",
     "output_type": "stream",
     "text": [
      "/mnt/hdd3/liuli/anaconda3/envs/JT/lib/python3.7/site-packages/ipykernel_launcher.py:17: RuntimeWarning: overflow encountered in true_divide\n"
     ]
    },
    {
     "name": "stdout",
     "output_type": "stream",
     "text": [
      "模型的评估结果:\n",
      "PersonR: 0.586889 \n",
      "RMSE: 0.072218 \n",
      "R2: 0.344435 \n",
      "Explained Variance: 0.344435 \n",
      "MSE: 0.005215 \n",
      "MAE: 0.017270 \n",
      "MAPE: inf\n",
      "LGB (0.5868888260316272, 0.07221823507685599, 0.344435406963876, 0.34443543406663235, 0.005215473477616032, 0.017269708167320173, inf)\n",
      "2021-03-26 10:35:54\n",
      "####################！！！LGB Running！！！##########################\n"
     ]
    },
    {
     "name": "stderr",
     "output_type": "stream",
     "text": [
      "/mnt/hdd3/liuli/anaconda3/envs/JT/lib/python3.7/site-packages/ipykernel_launcher.py:17: RuntimeWarning: overflow encountered in true_divide\n"
     ]
    },
    {
     "name": "stdout",
     "output_type": "stream",
     "text": [
      "模型的评估结果:\n",
      "PersonR: 0.577900 \n",
      "RMSE: 0.069767 \n",
      "R2: 0.333966 \n",
      "Explained Variance: 0.333966 \n",
      "MSE: 0.004867 \n",
      "MAE: 0.016242 \n",
      "MAPE: inf\n",
      "LGB (0.5779003593955797, 0.0697665449730007, 0.3339658793206923, 0.33396648930555506, 0.004867370797469728, 0.01624247143422345, inf)\n",
      "2021-03-26 10:48:14\n",
      "####################！！！LGB Running！！！##########################\n"
     ]
    },
    {
     "name": "stderr",
     "output_type": "stream",
     "text": [
      "/mnt/hdd3/liuli/anaconda3/envs/JT/lib/python3.7/site-packages/ipykernel_launcher.py:17: RuntimeWarning: overflow encountered in true_divide\n"
     ]
    },
    {
     "name": "stdout",
     "output_type": "stream",
     "text": [
      "模型的评估结果:\n",
      "PersonR: 0.569370 \n",
      "RMSE: 0.067083 \n",
      "R2: 0.324181 \n",
      "Explained Variance: 0.324181 \n",
      "MSE: 0.004500 \n",
      "MAE: 0.015126 \n",
      "MAPE: inf\n",
      "LGB (0.5693704238648191, 0.06708342808931497, 0.32418086143651137, 0.32418144844991503, 0.004500186324214293, 0.01512616331825814, inf)\n",
      "2021-03-26 11:00:48\n",
      "####################！！！LGB Running！！！##########################\n"
     ]
    },
    {
     "name": "stderr",
     "output_type": "stream",
     "text": [
      "/mnt/hdd3/liuli/anaconda3/envs/JT/lib/python3.7/site-packages/ipykernel_launcher.py:17: RuntimeWarning: overflow encountered in true_divide\n"
     ]
    },
    {
     "name": "stdout",
     "output_type": "stream",
     "text": [
      "模型的评估结果:\n",
      "PersonR: 0.560582 \n",
      "RMSE: 0.064211 \n",
      "R2: 0.314251 \n",
      "Explained Variance: 0.314251 \n",
      "MSE: 0.004123 \n",
      "MAE: 0.013952 \n",
      "MAPE: inf\n",
      "LGB (0.5605823903430917, 0.06421121831024364, 0.3142509385517551, 0.3142511802786111, 0.004123080556885767, 0.013951761735974273, inf)\n",
      "2021-03-26 11:13:07\n",
      "####################！！！LGB Running！！！##########################\n"
     ]
    },
    {
     "name": "stderr",
     "output_type": "stream",
     "text": [
      "/mnt/hdd3/liuli/anaconda3/envs/JT/lib/python3.7/site-packages/ipykernel_launcher.py:17: RuntimeWarning: overflow encountered in true_divide\n"
     ]
    },
    {
     "name": "stdout",
     "output_type": "stream",
     "text": [
      "模型的评估结果:\n",
      "PersonR: 0.550654 \n",
      "RMSE: 0.061251 \n",
      "R2: 0.303217 \n",
      "Explained Variance: 0.303218 \n",
      "MSE: 0.003752 \n",
      "MAE: 0.012794 \n",
      "MAPE: inf\n",
      "LGB (0.5506535062769706, 0.06125064395224934, 0.3032174147189505, 0.30321755222665236, 0.0037516413845652186, 0.012794406235264932, inf)\n",
      "2021-03-26 11:25:34\n",
      "####################！！！LGB Running！！！##########################\n"
     ]
    },
    {
     "name": "stderr",
     "output_type": "stream",
     "text": [
      "/mnt/hdd3/liuli/anaconda3/envs/JT/lib/python3.7/site-packages/ipykernel_launcher.py:17: RuntimeWarning: overflow encountered in true_divide\n"
     ]
    },
    {
     "name": "stdout",
     "output_type": "stream",
     "text": [
      "模型的评估结果:\n",
      "PersonR: 0.538713 \n",
      "RMSE: 0.058196 \n",
      "R2: 0.290209 \n",
      "Explained Variance: 0.290209 \n",
      "MSE: 0.003387 \n",
      "MAE: 0.011628 \n",
      "MAPE: inf\n",
      "LGB (0.5387127400166082, 0.05819623057424114, 0.2902086820209958, 0.29020868456723425, 0.0033868012530502392, 0.011627781412334417, inf)\n",
      "2021-03-26 11:38:01\n",
      "####################！！！LGB Running！！！##########################\n"
     ]
    },
    {
     "name": "stderr",
     "output_type": "stream",
     "text": [
      "/mnt/hdd3/liuli/anaconda3/envs/JT/lib/python3.7/site-packages/ipykernel_launcher.py:17: RuntimeWarning: overflow encountered in true_divide\n"
     ]
    },
    {
     "name": "stdout",
     "output_type": "stream",
     "text": [
      "模型的评估结果:\n",
      "PersonR: 0.524146 \n",
      "RMSE: 0.054997 \n",
      "R2: 0.274727 \n",
      "Explained Variance: 0.274727 \n",
      "MSE: 0.003025 \n",
      "MAE: 0.010481 \n",
      "MAPE: inf\n",
      "LGB (0.5241461946637546, 0.05499700019134243, 0.27472676439712196, 0.27472677378503907, 0.0030246700300465197, 0.010481028019915257, inf)\n",
      "2021-03-26 11:50:32\n",
      "####################！！！LGB Running！！！##########################\n"
     ]
    },
    {
     "name": "stderr",
     "output_type": "stream",
     "text": [
      "/mnt/hdd3/liuli/anaconda3/envs/JT/lib/python3.7/site-packages/ipykernel_launcher.py:17: RuntimeWarning: overflow encountered in true_divide\n"
     ]
    },
    {
     "name": "stdout",
     "output_type": "stream",
     "text": [
      "模型的评估结果:\n",
      "PersonR: 0.506808 \n",
      "RMSE: 0.051695 \n",
      "R2: 0.256852 \n",
      "Explained Variance: 0.256852 \n",
      "MSE: 0.002672 \n",
      "MAE: 0.009363 \n",
      "MAPE: inf\n",
      "LGB (0.5068083062249457, 0.05169475769190085, 0.2568517782564468, 0.2568518803634955, 0.002672347972824342, 0.00936336176521601, inf)\n",
      "2021-03-26 12:02:52\n",
      "####################！！！LGB Running！！！##########################\n"
     ]
    },
    {
     "name": "stderr",
     "output_type": "stream",
     "text": [
      "/mnt/hdd3/liuli/anaconda3/envs/JT/lib/python3.7/site-packages/ipykernel_launcher.py:17: RuntimeWarning: overflow encountered in true_divide\n"
     ]
    },
    {
     "name": "stdout",
     "output_type": "stream",
     "text": [
      "模型的评估结果:\n",
      "PersonR: 0.486033 \n",
      "RMSE: 0.048338 \n",
      "R2: 0.236225 \n",
      "Explained Variance: 0.236226 \n",
      "MSE: 0.002337 \n",
      "MAE: 0.008261 \n",
      "MAPE: inf\n",
      "LGB (0.48603337537715907, 0.048338164995239324, 0.23622542552033432, 0.23622574604930713, 0.0023365781951069802, 0.008260975236710072, inf)\n",
      "2021-03-26 12:15:57\n",
      "####################！！！LGB Running！！！##########################\n"
     ]
    },
    {
     "name": "stderr",
     "output_type": "stream",
     "text": [
      "/mnt/hdd3/liuli/anaconda3/envs/JT/lib/python3.7/site-packages/ipykernel_launcher.py:17: RuntimeWarning: overflow encountered in true_divide\n"
     ]
    },
    {
     "name": "stdout",
     "output_type": "stream",
     "text": [
      "模型的评估结果:\n",
      "PersonR: 0.461418 \n",
      "RMSE: 0.044991 \n",
      "R2: 0.212903 \n",
      "Explained Variance: 0.212903 \n",
      "MSE: 0.002024 \n",
      "MAE: 0.007201 \n",
      "MAPE: inf\n",
      "LGB (0.461417811244018, 0.04499062687115018, 0.21290270616688856, 0.212902945282072, 0.0020241565062590603, 0.0072007144266726785, inf)\n",
      "2021-03-26 12:28:12\n",
      "####################！！！LGB Running！！！##########################\n"
     ]
    },
    {
     "name": "stderr",
     "output_type": "stream",
     "text": [
      "/mnt/hdd3/liuli/anaconda3/envs/JT/lib/python3.7/site-packages/ipykernel_launcher.py:17: RuntimeWarning: overflow encountered in true_divide\n"
     ]
    },
    {
     "name": "stdout",
     "output_type": "stream",
     "text": [
      "模型的评估结果:\n",
      "PersonR: 0.433260 \n",
      "RMSE: 0.041771 \n",
      "R2: 0.187710 \n",
      "Explained Variance: 0.187711 \n",
      "MSE: 0.001745 \n",
      "MAE: 0.006221 \n",
      "MAPE: inf\n",
      "LGB (0.43326046903937776, 0.04177065904124514, 0.18771037756550268, 0.18771055044586704, 0.0017447879567399542, 0.006221139128306391, inf)\n",
      "2021-03-26 12:40:02\n",
      "####################！！！LGB Running！！！##########################\n"
     ]
    },
    {
     "name": "stderr",
     "output_type": "stream",
     "text": [
      "/mnt/hdd3/liuli/anaconda3/envs/JT/lib/python3.7/site-packages/ipykernel_launcher.py:17: RuntimeWarning: overflow encountered in true_divide\n"
     ]
    },
    {
     "name": "stdout",
     "output_type": "stream",
     "text": [
      "模型的评估结果:\n",
      "PersonR: 0.401583 \n",
      "RMSE: 0.038707 \n",
      "R2: 0.161263 \n",
      "Explained Variance: 0.161263 \n",
      "MSE: 0.001498 \n",
      "MAE: 0.005310 \n",
      "MAPE: inf\n",
      "LGB (0.40158264213122213, 0.038707051741716944, 0.1612629725860828, 0.16126298351974844, 0.0014982358545359527, 0.005310124414490403, inf)\n",
      "2021-03-26 12:52:39\n",
      "####################！！！LGB Running！！！##########################\n",
      "模型的评估结果:\n",
      "PersonR: 0.367766 \n",
      "RMSE: 0.035889 \n",
      "R2: 0.135243 \n",
      "Explained Variance: 0.135243 \n",
      "MSE: 0.001288 \n",
      "MAE: 0.004514 \n",
      "MAPE: 22224299428285609451717225429796231058019299918334936535427575797257472052258094824662426670360232246009575335695417075898243617735130507978011638912965392905771101700944750361770424297208909132252267242339677557275903583111601982556888890691518448922393719552113865832529920.000000\n",
      "LGB (0.36776581437308004, 0.03588926853496963, 0.13524332541952622, 0.13524338528595659, 0.0012880395959751615, 0.004513890407439057, 2.222429942828561e+274)\n",
      "2021-03-26 13:04:37\n",
      "####################！！！LGB Running！！！##########################\n",
      "模型的评估结果:\n",
      "PersonR: 0.333260 \n",
      "RMSE: 0.033271 \n",
      "R2: 0.111049 \n",
      "Explained Variance: 0.111050 \n",
      "MSE: 0.001107 \n",
      "MAE: 0.003791 \n",
      "MAPE: 658808942213163543362085544815772666833120361959728113023821158762914958276369315707031815766263755010299401620758505490901828325145195073362594866974906572769788282549520736974936353096308169760707053707277224956192096256.000000\n",
      "LGB (0.33325962246202584, 0.03327136343008021, 0.111049261517153, 0.11104990916581059, 0.0011069836244964788, 0.0037905898214941206, 6.5880894221316354e+221)\n",
      "2021-03-26 13:16:45\n",
      "####################！！！LGB Running！！！##########################\n",
      "模型的评估结果:\n",
      "PersonR: 0.299994 \n",
      "RMSE: 0.030834 \n",
      "R2: 0.089982 \n",
      "Explained Variance: 0.089983 \n",
      "MSE: 0.000951 \n",
      "MAE: 0.003172 \n",
      "MAPE: 3223727637581863505357443528505675322344797708844703053270078400141989349373206679358828541492518883860109609139867938908435002938780920214272748436834408878870241320271727296512.000000\n",
      "LGB (0.2999941199955426, 0.03083427524077873, 0.08998175384092322, 0.08998303297798638, 0.0009507525296241003, 0.0031715429724233045, 3.2237276375818635e+177)\n",
      "2021-03-26 13:28:09\n",
      "####################！！！LGB Running！！！##########################\n",
      "模型的评估结果:\n",
      "PersonR: 0.269524 \n",
      "RMSE: 0.028396 \n",
      "R2: 0.072626 \n",
      "Explained Variance: 0.072627 \n",
      "MSE: 0.000806 \n",
      "MAE: 0.002618 \n",
      "MAPE: 560834190348162133800344528180438979513673464936542248514012364372621679779430839565265142698888673896568013664596544368176221462200320.000000\n",
      "LGB (0.26952420950537387, 0.028396138764329514, 0.07262611897652205, 0.07262706994911539, 0.0008063406967230574, 0.0026177379282804267, 5.608341903481621e+134)\n",
      "2021-03-26 13:39:48\n",
      "####################！！！LGB Running！！！##########################\n",
      "模型的评估结果:\n",
      "PersonR: 0.243216 \n",
      "RMSE: 0.025819 \n",
      "R2: 0.059132 \n",
      "Explained Variance: 0.059132 \n",
      "MSE: 0.000667 \n",
      "MAE: 0.002122 \n",
      "MAPE: 7498619666218836575717254644897877610232386654344035195797126428190771127906322377882476479957172224.000000\n",
      "LGB (0.24321606273710492, 0.025818862203160004, 0.05913175265361703, 0.05913231564740229, 0.0006666136454657643, 0.0021221047445575225, 7.498619666218837e+99)\n",
      "2021-03-26 13:51:45\n",
      "####################！！！LGB Running！！！##########################\n",
      "模型的评估结果:\n",
      "PersonR: 0.220495 \n",
      "RMSE: 0.022937 \n",
      "R2: 0.048604 \n",
      "Explained Variance: 0.048604 \n",
      "MSE: 0.000526 \n",
      "MAE: 0.001661 \n",
      "MAPE: 44112335569010739085236906443002875071793205985043613059043065707471306752.000000\n",
      "LGB (0.2204950180408777, 0.022936500862314024, 0.0486035525802746, 0.04860389022448064, 0.0005260830718069319, 0.0016610485318742756, 4.411233556901074e+73)\n",
      "2021-03-26 14:03:04\n",
      "####################！！！LGB Running！！！##########################\n",
      "模型的评估结果:\n",
      "PersonR: 0.199215 \n",
      "RMSE: 0.019939 \n",
      "R2: 0.039679 \n",
      "Explained Variance: 0.039679 \n",
      "MSE: 0.000398 \n",
      "MAE: 0.001257 \n",
      "MAPE: 227136328400230196385551451894422689559999614927503360.000000\n",
      "LGB (0.1992150335189505, 0.019938567486836607, 0.03967870595475631, 0.03967877052215063, 0.0003975464734271378, 0.0012574294968344035, 2.271363284002302e+53)\n",
      "2021-03-26 14:14:08\n",
      "####################！！！LGB Running！！！##########################\n",
      "模型的评估结果:\n",
      "PersonR: 0.176080 \n",
      "RMSE: 0.017141 \n",
      "R2: 0.030996 \n",
      "Explained Variance: 0.030996 \n",
      "MSE: 0.000294 \n",
      "MAE: 0.000925 \n",
      "MAPE: 590060393166365306622489169261232128.000000\n",
      "LGB (0.17608047941829683, 0.017141380659740992, 0.03099627080380718, 0.03099627195553245, 0.0002938269309221425, 0.0009250301310043316, 5.900603931663653e+35)\n",
      "2021-03-26 14:24:59\n",
      "####################！！！LGB Running！！！##########################\n",
      "模型的评估结果:\n",
      "PersonR: 0.149619 \n",
      "RMSE: 0.014770 \n",
      "R2: 0.022377 \n",
      "Explained Variance: 0.022377 \n",
      "MSE: 0.000218 \n",
      "MAE: 0.000653 \n",
      "MAPE: 35669446621917966336.000000\n",
      "LGB (0.14961899385545602, 0.014769733020727928, 0.022377200085522464, 0.022377207962673062, 0.00021814501350358092, 0.0006533200456309382, 3.5669446621917966e+19)\n",
      "2021-03-26 14:35:12\n",
      "####################！！！LGB Running！！！##########################\n",
      "模型的评估结果:\n",
      "PersonR: 0.129110 \n",
      "RMSE: 0.013002 \n",
      "R2: 0.016661 \n",
      "Explained Variance: 0.016661 \n",
      "MSE: 0.000169 \n",
      "MAE: 0.000470 \n",
      "MAPE: 62163285.266318\n",
      "LGB (0.12910998865557377, 0.013001513825852289, 0.016660752641007526, 0.01666076444079201, 0.00016903936176382824, 0.00046997432609592415, 62163285.26631838)\n"
     ]
    }
   ],
   "source": [
    "#把EC83的廓线按照第一条，第一层复制55万个，然后第二条、第一层，共83*100*55万个数据。\n",
    "ec_df=pd.DataFrame(ec_input_100)\n",
    "#print(ec_df)\n",
    "\n",
    "true_total=np.array([])\n",
    "pre_total=np.array([])\n",
    "for i in range(99,-1,-1):\n",
    "    f = open(\"metrics_%d.txt\" %(i), \"w\")\n",
    "    tot=np.array([])\n",
    "    v=np.array([])\n",
    "    mg_od=np.array([])\n",
    "    for pro in range(0,83):\n",
    "     #倒叙原因是为与ozo文件统一，ozo中第一层是最底层\n",
    "        new=np.repeat(ec_df.iloc[i+pro*100].values.reshape(1,-1),555001,axis=0)\n",
    "        #print(new.shape)\n",
    "        tot=np.append(tot,new)\n",
    "        lev=100-i\n",
    "        #####开始处理ozo的小文件\n",
    "        fix_name = glob.glob(ozopath+'/*_%dP_*%03d' %(pro+1,lev))\n",
    "        if os.path.exists(fix_name[0]):\n",
    "            v_temp,mg_od_temp = lblrtm_tape11_reader(fix_name[0],'single')\n",
    "            mg_od_temp=np.exp(-mg_od_temp)\n",
    "            #print(\"小文件测试\",v_temp.shape,mg_od_temp.shape)\n",
    "            #print(np.where(mg_od_temp==np.max(mg_od_temp)))\n",
    "            #print(v_temp[22515])\n",
    "            #fig = plt.figure(figsize=(15,10))\n",
    "            #ax1 = fig.add_subplot(211)         \n",
    "            #l1,=ax1.plot(v_temp,mg_od_temp,'g-',linewidth=1.5)\n",
    "            #ax2 = fig.add_subplot(212)\n",
    "            #l2,=ax2.plot(mg_od_temp,'r:', linewidth=1.5)\n",
    "            #plt.show()            \n",
    "        else:\n",
    "            v_temp=np.full([555001,], np.nan)\n",
    "            mg_od_temp=np.full([555001,], np.nan)\n",
    "        v=np.append(v,v_temp)\n",
    "        mg_od=np.append(mg_od,mg_od_temp)\n",
    "    tot=tot.reshape(-1,8)\n",
    "    v=v.reshape(-1,1)\n",
    "    \n",
    "    mg_od=mg_od.reshape(-1,1)\n",
    "    #print(tot.shape)\n",
    "    X=np.hstack((tot,v))\n",
    "    #print(X.shape)\n",
    "    #print(X)\n",
    "    Y=mg_od\n",
    "    #print(Y)\n",
    "    print(datetime.datetime.now().strftime('%Y-%m-%d %H:%M:%S'))\n",
    "    f.write(\"start：\"+datetime.datetime.now().strftime('%Y-%m-%d %H:%M:%S')+\"\\n\")\n",
    "    #########开始训练并比较结果\n",
    "    print(\"####################！！！LGB Running！！！##########################\")\n",
    "    #best_params, loss=main_tuning_with_bo(\n",
    "    #X_train=X[:60*555001],\n",
    "    #y_train=Y[:60*555001].ravel(),\n",
    "    #X_val=X[60*555001:],\n",
    "    #y_val=Y[60*555001:].ravel(),\n",
    "    #model_nm='LGB',\n",
    "    #max_evals=3,\n",
    "    #folds=None,\n",
    "    #nfold=3,\n",
    "    #eval_metric='l1',\n",
    "    #task='regression')\n",
    "    #print(best_params,loss)\n",
    "    model2 = lgb.LGBMRegressor(**lgbm_params)\n",
    "    model2.fit(X[:60*555001], Y[:60*555001].ravel())\n",
    "    #model2 = lgb.LGBMRegressor()\n",
    "    #gs2 = GridSearchCV(model2, lgbm_grid, cv=3, n_jobs=-1)\n",
    "    #gs2.fit(X[:60*555001], Y[:60*555001].ravel())\n",
    "    #print(gs2.best_params_)\n",
    "    #print(gs2.best_score_)\n",
    "    #best_model2=gs2.best_estimator_\n",
    "    y_pred2 = model2.predict(X[60*555001:])\n",
    "    metrics_i2 = func_evaluation(Y[60*555001:], y_pred2)\n",
    "    f.write(\"LGB_finished:\"+datetime.datetime.now().strftime('%Y-%m-%d %H:%M:%S')+\"\\n\")\n",
    "    f.write(str(lgbm_params))\n",
    "    f.write(str(metrics_i2)+\"\\n\")\n",
    "    joblib.dump(model2, 'model_level_%02d.pkl' %(i))\n",
    "    print(\"LGB\",metrics_i2)\n",
    "    \n",
    "    true_total=np.append(true_total,Y[60*555001:])\n",
    "    pre_total=np.append(pre_total, y_pred2)\n",
    "    #fig = plt.figure(figsize=(15,10))\n",
    "    #ax1 = fig.add_subplot(211)         \n",
    "    #l1,=ax1.plot(X[60*555001:],Y[60*555001:],'g-',linewidth=1.5)\n",
    "    #l2,=ax1.plot(X[60*555001:],y_pred2,'r:',linewidth=1.5)\n",
    "    #plt.savefig(\"OD_plot.png\",dpi=100)\n",
    "    #plt.show()\n",
    "    \n",
    "\n",
    "    #print(\"####################！！！RF Running！！！##########################\")\n",
    "    #best_params3, loss3=main_tuning_with_bo(\n",
    "    #X[:60*555001],\n",
    "    #Y[:60*555001].ravel(),\n",
    "    #model_nm='RF',\n",
    "    #max_evals=10,\n",
    "    #folds=None,\n",
    "    #nfold=3,\n",
    "    #eval_metric='l2',\n",
    "    #task='regression')\n",
    "    #print(best_params3,loss3)\n",
    "    #model3 = RandomForestRegressor(**best_params3)\n",
    "    #model3.fit(X[:60*555001], Y[:60*555001].ravel()) \n",
    "    #y_pred3 = model3.predict(X[60*555001:])\n",
    "    #metrics_i3 = func_evaluation(Y[60*555001:], y_pred3)\n",
    "    #f.write(\"RF_finished:\"+datetime.datetime.now().strftime('%Y-%m-%d %H:%M:%S')+\"\\n\")\n",
    "    #f.write(str(best_params3))\n",
    "    #f.write(str(metrics_i3)+\"\\n\")\n",
    "    #print(\"RF\",metrics_i3)\n",
    "    \n",
    "#\n",
    "    #print(\"####################！！！ET Running！！！##########################\")\n",
    "    #model4 = ExtraTreesRegressor(**et_params)\n",
    "    #model4.fit(X[:60*555001], Y[:60*555001].ravel())\n",
    "    #y_pred4 = model4.predict(X[60*555001:])\n",
    "    #metrics_i4 = func_evaluation(Y[60*555001:], y_pred4)\n",
    "    #f.write(str(datetime.datetime.now())+str(metrics_i4)+\"\\n\")\n",
    "    #print(\"ET\",metrics_i4) \n",
    "    #\n",
    "#\n",
    "    #print(\"####################！！！CAT Running！！！##########################\")\n",
    "    #model5 = CatBoostRegressor(**cat_params,verbose=None)\n",
    "    #model5.fit(X[:60*555001], Y[:60*555001].ravel())\n",
    "    #y_pred5 = model5.predict(X[60*555001:])\n",
    "    #metrics_i5 = func_evaluation(Y[60*555001:], y_pred5)\n",
    "    #f.write(str(datetime.datetime.now())+str(metrics_i5)+\"\\n\")\n",
    "    #f.write(\"end\"+datetime.datetime.now()+\"\\n\")\n",
    "    #print(\"CAT\",metrics_i5) \n",
    "    #\n",
    "#\n",
    "    #print(\"####################！！！XGBoost Running！！！##########################\")\n",
    "    #model = xgb.XGBRegressor(**xgb_params)\n",
    "    #model.fit(X[:60*555001], Y[:60*555001].ravel()) ###共83条廓线，前80条做训练，后3条做测试\n",
    "    #y_pred = model.predict(X[60*555001:])\n",
    "    #metrics_i = func_evaluation(Y[60*555001:], y_pred)\n",
    "    #f.write(str(datetime.datetime.now())+str(metrics_i)+\"\\n\")\n",
    "    #print(\"XGB:\",metrics_i)\n",
    "    f.close()\n",
    "#    if i==99:\n",
    "#        break\n",
    "\n"
   ]
  },
  {
   "cell_type": "code",
   "execution_count": 7,
   "metadata": {},
   "outputs": [
    {
     "name": "stderr",
     "output_type": "stream",
     "text": [
      "/mnt/hdd3/liuli/anaconda3/envs/JT/lib/python3.7/site-packages/ipykernel_launcher.py:17: RuntimeWarning: overflow encountered in true_divide\n"
     ]
    },
    {
     "name": "stdout",
     "output_type": "stream",
     "text": [
      "模型的评估结果:\n",
      "PersonR: 0.945891 \n",
      "RMSE: 0.070713 \n",
      "R2: 0.894701 \n",
      "Explained Variance: 0.894702 \n",
      "MSE: 0.005000 \n",
      "MAE: 0.019986 \n",
      "MAPE: inf\n",
      "(0.9458910960878036, 0.07071313997647734, 0.8947007067936396, 0.8947023324473464, 0.005000348165332877, 0.019986359688119928, inf)\n"
     ]
    },
    {
     "name": "stderr",
     "output_type": "stream",
     "text": [
      "/mnt/hdd3/liuli/anaconda3/envs/JT/lib/python3.7/site-packages/numpy/core/_methods.py:160: RuntimeWarning: overflow encountered in reduce\n",
      "  ret = umr_sum(arr, axis, dtype, out, keepdims)\n"
     ]
    }
   ],
   "source": [
    "np.savez('pre.npz', sequence_array=pre_total)\n",
    "np.savez('tru.npz', sequence_array=true_total)\n",
    "metrics_total = func_evaluation(true_total, pre_total)\n",
    "print(metrics_total)"
   ]
  },
  {
   "cell_type": "code",
   "execution_count": 22,
   "metadata": {},
   "outputs": [
    {
     "name": "stdout",
     "output_type": "stream",
     "text": [
      "(1276502300,) (1276502300,)\n",
      "0.019986359688119928\n"
     ]
    },
    {
     "data": {
      "image/png": "[encoded data removed]",
      "text/plain": [
       "<Figure size 1080x720 with 1 Axes>"
      ]
     },
     "metadata": {
      "needs_background": "light"
     },
     "output_type": "display_data"
    }
   ],
   "source": [
    "fig = plt.figure(figsize=(15,10))\n",
    "ax1 = fig.add_subplot(211)  \n",
    "print(true_total.shape,pre_total.shape)\n",
    "print(np.mean(abs(true_total.ravel()-pre_total.ravel())))\n",
    "l1,=ax1.plot(true_total[190*555001:199*555001].ravel()-pre_total[190*555001:199*555001].ravel(),'g-',linewidth=1.5)\n",
    "plt.legend([\"bias\"])\n",
    "#plt.savefig(\"OD_plot.png\",dpi=100)\n",
    "plt.show()"
   ]
  },
  {
   "cell_type": "code",
   "execution_count": 9,
   "metadata": {},
   "outputs": [],
   "source": [
    "#取出第一层的数据，即前（55万个*83条）条数据"
   ]
  },
  {
   "cell_type": "code",
   "execution_count": 10,
   "metadata": {
    "scrolled": true
   },
   "outputs": [],
   "source": [
    "##fixpath='/home/liuli/liul/fixgas/angle1'\n",
    "#\n",
    "##ßwvpath='/home/liuli/liul/wv/angle1'\n",
    "#\n",
    "#for lev in range(1,2):#101):\n",
    "##    print(pro)  \n",
    "#    for pro in range(1,2): #84):\n",
    "#        fix_name = glob.glob(ozopath+'/*_%dP_*%03d' %(pro,lev))\n",
    "#        if os.path.exists(fix_name[0]):\n",
    "#            print(fix_name[0])\n",
    "#            v_temp,mg_od_temp = lblrtm_tape11_reader(fix_name[0],'single')\n",
    "#            \n",
    "#        else:\n",
    "#            v=np.full([555001,], np.nan)\n",
    "#            mg_od=np.full([555001,], np.nan)\n",
    "#        v=np.append(v,v_temp)\n",
    "#        #print(v.shape)\n",
    "#        mg_od=np.append(mg_od,mg_od_temp)\n",
    "#print(v.shape,mg_od.shape)\n",
    "##np.savez('v.npz', sequence_array=v)\n",
    "##np.savez('mg_od.npz', sequence_array=mg_od)"
   ]
  },
  {
   "cell_type": "code",
   "execution_count": null,
   "metadata": {},
   "outputs": [],
   "source": []
  },
  {
   "cell_type": "code",
   "execution_count": null,
   "metadata": {},
   "outputs": [],
   "source": []
  }
 ],
 "metadata": {
  "kernelspec": {
   "display_name": "Python 3",
   "language": "python",
   "name": "python3"
  },
  "language_info": {
   "codemirror_mode": {
    "name": "ipython",
    "version": 3
   },
   "file_extension": ".py",
   "mimetype": "text/x-python",
   "name": "python",
   "nbconvert_exporter": "python",
   "pygments_lexer": "ipython3",
   "version": "3.7.9"
  }
 },
 "nbformat": 4,
 "nbformat_minor": 4
}
