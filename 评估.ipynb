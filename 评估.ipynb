{
 "cells": [
  {
   "cell_type": "code",
   "execution_count": 1,
   "metadata": {},
   "outputs": [],
   "source": [
    "import struct\n",
    "import numpy as np\n",
    "import os\n",
    "import time\n",
    "import matplotlib.pyplot as plt\n",
    "import datetime\n",
    "import glob\n",
    "import pandas as pd\n",
    "from itertools import islice  \n",
    "import xgboost as xgb\n",
    "from model_config import *\n",
    "import lightgbm as lgb\n",
    "from catboost import CatBoostRegressor\n",
    "from sklearn.ensemble import RandomForestRegressor, ExtraTreesRegressor\n",
    "from scipy import stats\n",
    "from sklearn.metrics import r2_score, explained_variance_score, mean_squared_error, mean_absolute_error\n",
    "from sklearn.model_selection import GridSearchCV\n",
    "#from treesbo.tuning import main_tuning_with_bo\n",
    "%matplotlib inline\n",
    "import matplotlib.pyplot as plt\n",
    "import joblib"
   ]
  },
  {
   "cell_type": "code",
   "execution_count": 2,
   "metadata": {},
   "outputs": [],
   "source": [
    "def func_evaluation(y_real, y_pred, verbose=True):\n",
    "    \"\"\"\n",
    "    y_real: real values\n",
    "    y_pred: prediction values\n",
    "    MAKE THEM HAVE THE SHAPE OF (N,) FIRST BY USING ndarray.ravel()\n",
    "    \"\"\"\n",
    "    if not isinstance(y_real, np.ndarray):\n",
    "        y_real = np.array(y_real)\n",
    "    if not isinstance(y_pred, np.ndarray):\n",
    "        y_pred = np.array(y_pred)\n",
    "    y_real = y_real.ravel()\n",
    "    y_pred = y_pred.ravel()\n",
    "\n",
    "    # MAPE\n",
    "    def cal_mape(y_true, y_pred):\n",
    "        y_true = np.where(y_true == 0, 1, y_true)  # To avoid zeros.\n",
    "        mape = np.mean(abs((y_true.ravel() - y_pred.ravel()) / y_true.ravel()))\n",
    "        return mape\n",
    "\n",
    "    m0 = stats.pearsonr(y_real, y_pred)[0]\n",
    "    m1 = r2_score(y_real, y_pred)\n",
    "    m2 = explained_variance_score(y_real, y_pred)\n",
    "    m3 = mean_squared_error(y_real, y_pred)\n",
    "    m4 = mean_absolute_error(y_real, y_pred)\n",
    "    m5 = cal_mape(y_real, y_pred)\n",
    "    if verbose:\n",
    "        print(\"模型的评估结果:\")\n",
    "        print(\n",
    "            'PersonR: %f \\nRMSE: %f \\nR2: %f \\nExplained Variance: %f \\nMSE: %f \\nMAE: %f \\nMAPE: %f'\n",
    "            % (m0, np.sqrt(m3), m1, m2, m3, m4, m5))\n",
    "    return m0, np.sqrt(m3), m1, m2, m3, m4, m5\n",
    "\n"
   ]
  },
  {
   "cell_type": "code",
   "execution_count": 6,
   "metadata": {},
   "outputs": [
    {
     "name": "stdout",
     "output_type": "stream",
     "text": [
      "(1263737277,)\n",
      "(1263737277,)\n"
     ]
    }
   ],
   "source": [
    "pre = np.load('./pre.npz')['sequence_array']\n",
    "true = np.load('./tru.npz')['sequence_array']\n",
    "print(pre.shape)\n",
    "print(true.shape)"
   ]
  },
  {
   "cell_type": "code",
   "execution_count": 4,
   "metadata": {},
   "outputs": [
    {
     "name": "stdout",
     "output_type": "stream",
     "text": [
      "(54945099,)\n"
     ]
    }
   ],
   "source": [
    "#共有100层，每层有23条廓线，每个文件有555001个波数。555001*23*100=1276502300\n",
    "#画一张横坐标是波数，纵坐标是层数，bias的二维分布图。\n",
    "bias=np.array([])\n",
    "for i in range(0,pre.shape[0],23*555001):\n",
    "    #print(abs(pre[i:i+23*555001]-true[i:i+23*555001]).shape)\n",
    "    tmp=np.mean(abs(pre[i:i+23*555001]-true[i:i+23*555001]).reshape(23,555001),axis=0)\n",
    "    bias=np.append(bias,tmp)\n",
    "print(bias.shape)"
   ]
  },
  {
   "cell_type": "code",
   "execution_count": 5,
   "metadata": {},
   "outputs": [
    {
     "ename": "ValueError",
     "evalue": "cannot reshape array of size 54945099 into shape (100,555001)",
     "output_type": "error",
     "traceback": [
      "\u001b[0;31m---------------------------------------------------------------------------\u001b[0m",
      "\u001b[0;31mValueError\u001b[0m                                Traceback (most recent call last)",
      "\u001b[0;32m<ipython-input-5-522e4740cecc>\u001b[0m in \u001b[0;36m<module>\u001b[0;34m\u001b[0m\n\u001b[0;32m----> 1\u001b[0;31m \u001b[0mbias\u001b[0m\u001b[0;34m=\u001b[0m\u001b[0mbias\u001b[0m\u001b[0;34m.\u001b[0m\u001b[0mreshape\u001b[0m\u001b[0;34m(\u001b[0m\u001b[0;36m100\u001b[0m\u001b[0;34m,\u001b[0m\u001b[0;36m555001\u001b[0m\u001b[0;34m)\u001b[0m\u001b[0;34m\u001b[0m\u001b[0;34m\u001b[0m\u001b[0m\n\u001b[0m\u001b[1;32m      2\u001b[0m \u001b[0mprint\u001b[0m\u001b[0;34m(\u001b[0m\u001b[0mbias\u001b[0m\u001b[0;34m.\u001b[0m\u001b[0mshape\u001b[0m\u001b[0;34m)\u001b[0m\u001b[0;34m\u001b[0m\u001b[0;34m\u001b[0m\u001b[0m\n\u001b[1;32m      3\u001b[0m \u001b[0mget_ipython\u001b[0m\u001b[0;34m(\u001b[0m\u001b[0;34m)\u001b[0m\u001b[0;34m.\u001b[0m\u001b[0mrun_line_magic\u001b[0m\u001b[0;34m(\u001b[0m\u001b[0;34m'matplotlib'\u001b[0m\u001b[0;34m,\u001b[0m \u001b[0;34m'inline'\u001b[0m\u001b[0;34m)\u001b[0m\u001b[0;34m\u001b[0m\u001b[0;34m\u001b[0m\u001b[0m\n\u001b[1;32m      4\u001b[0m \u001b[0mfig\u001b[0m \u001b[0;34m=\u001b[0m \u001b[0mplt\u001b[0m\u001b[0;34m.\u001b[0m\u001b[0mfigure\u001b[0m\u001b[0;34m(\u001b[0m\u001b[0mfigsize\u001b[0m\u001b[0;34m=\u001b[0m\u001b[0;34m(\u001b[0m\u001b[0;36m20\u001b[0m\u001b[0;34m,\u001b[0m\u001b[0;36m10\u001b[0m\u001b[0;34m)\u001b[0m\u001b[0;34m)\u001b[0m\u001b[0;34m\u001b[0m\u001b[0;34m\u001b[0m\u001b[0m\n\u001b[1;32m      5\u001b[0m \u001b[0max1\u001b[0m \u001b[0;34m=\u001b[0m \u001b[0mfig\u001b[0m\u001b[0;34m.\u001b[0m\u001b[0madd_subplot\u001b[0m\u001b[0;34m(\u001b[0m\u001b[0;36m111\u001b[0m\u001b[0;34m)\u001b[0m\u001b[0;34m\u001b[0m\u001b[0;34m\u001b[0m\u001b[0m\n",
      "\u001b[0;31mValueError\u001b[0m: cannot reshape array of size 54945099 into shape (100,555001)"
     ]
    }
   ],
   "source": [
    "bias=bias.reshape(100,555001)\n",
    "print(bias.shape)\n",
    "%matplotlib inline\n",
    "fig = plt.figure(figsize=(20,10))\n",
    "ax1 = fig.add_subplot(111) \n",
    "#label=[i for i in np.arange(645.0,1200.1,0.001)] # 填写自己的标签\n",
    "#ax1.set_xticklabels(label)\n",
    "im=ax1.imshow(bias[:,::1000],origin='lower',cmap='twilight')\n",
    "plt.xticks(np.arange(0, 555.001, 50), np.arange(645, 1200, 50))\n",
    "plt.tick_params(labelsize=12)\n",
    "\n",
    "\n",
    "\n",
    "#设置横纵坐标的名称以及对应字体格式\n",
    "font2 = {'family' : 'Times New Roman',\n",
    "'weight' : 'normal',\n",
    "'size'   : 13,\n",
    "}\n",
    "plt.xlabel('boshu',font2)\n",
    "plt.ylabel('level',font2)\n",
    "plt.title('MAE')\n",
    "#设置图例并且设置图例的字体及大小\n",
    "font1 = {'family' : 'Times New Roman',\n",
    "'weight' : 'normal',\n",
    "'size'   : 13,\n",
    "}\n",
    "position=fig.add_axes([0.15, 0.25, 0.7, 0.04])#位置[右移,上移,拉宽,压缩高度]\n",
    "cb=plt.colorbar(im,cax=position,orientation='horizontal')#方向\n",
    "cb.set_label(' ',fontdict=font1) #设置colorbar的标签字体及其大小\n",
    "\n",
    "plt.savefig('MAE—add-charas.png',dpi=100)\n",
    "plt.show()"
   ]
  },
  {
   "cell_type": "code",
   "execution_count": null,
   "metadata": {},
   "outputs": [],
   "source": [
    "\n",
    "fig = plt.figure(figsize=(15,10))\n",
    "ax1 = fig.add_subplot(211)  \n",
    "print(true_total.shape,pre_total.shape)\n",
    "print(np.mean(abs(true_total.ravel()-pre_total.ravel())))\n",
    "l1,=ax1.plot(true_total[190*555001:199*555001].ravel()-pre_total[190*555001:199*555001].ravel(),'g-',linewidth=1.5)\n",
    "plt.legend([\"bias\"])\n",
    "#plt.savefig(\"OD_plot.png\",dpi=100)\n",
    "plt.show()"
   ]
  }
 ],
 "metadata": {
  "kernelspec": {
   "display_name": "Python 3",
   "language": "python",
   "name": "python3"
  },
  "language_info": {
   "codemirror_mode": {
    "name": "ipython",
    "version": 3
   },
   "file_extension": ".py",
   "mimetype": "text/x-python",
   "name": "python",
   "nbconvert_exporter": "python",
   "pygments_lexer": "ipython3",
   "version": "3.7.8"
  }
 },
 "nbformat": 4,
 "nbformat_minor": 4
}
