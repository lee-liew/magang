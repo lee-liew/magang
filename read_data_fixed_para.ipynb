{
 "cells": [
  {
   "cell_type": "code",
   "execution_count": 1,
   "metadata": {},
   "outputs": [],
   "source": [
    "import struct\n",
    "import numpy as np\n",
    "import os\n",
    "import time\n",
    "import matplotlib.pyplot as plt\n",
    "import datetime\n",
    "import glob\n",
    "import pandas as pd\n",
    "from itertools import islice  \n",
    "import xgboost as xgb\n",
    "from model_config import *\n",
    "import lightgbm as lgb\n",
    "from catboost import CatBoostRegressor\n",
    "from sklearn.ensemble import RandomForestRegressor, ExtraTreesRegressor\n",
    "from scipy import stats\n",
    "from sklearn.metrics import r2_score, explained_variance_score, mean_squared_error, mean_absolute_error\n",
    "from sklearn.model_selection import GridSearchCV\n",
    "from treesbo.tuning import main_tuning_with_bo\n",
    "%matplotlib inline\n",
    "import matplotlib.pyplot as plt\n",
    "import joblib\n"
   ]
  },
  {
   "cell_type": "code",
   "execution_count": 2,
   "metadata": {},
   "outputs": [],
   "source": [
    "def lblrtm_tape11_reader(fname, opt):\n",
    "    #%[波数，光学厚度]\n",
    "    #% File format illustration\n",
    "    #% for single precision\n",
    "    #% shift 266*4 bytes\n",
    "    #% LOOP\n",
    "    #% 1 int        , 24 (block of v1, v2, dv, npts)\n",
    "    #% 2 double vars, for v1, and v2\n",
    "    #% 1 float      , for dv\n",
    "    #% 1 int        , for npts\n",
    "    #% 1 int        , 24\n",
    "    #% 1 int        , 9600 or npts*4 (beg of block output)\n",
    "    #% NPTs float   , rad\n",
    "    #% 1 int        , 9600 or npts*4 (end of block of output)\n",
    "    #% LOOP ENDS\n",
    "    #\n",
    "    #% for double precision\n",
    "    #% shift 356*4 bytes\n",
    "    #% LOOP\n",
    "    #% 1 int        , 32 (v1, v2, dv and npts, extra 0)\n",
    "    #% 3 double vars, for v1, v2, and dv\n",
    "    #% 1 long int   , for npts\n",
    "    #% 1 int        , 32   \n",
    "    #% 1 int        , 19200 or npts*8 (beg of block of output)\n",
    "    #% NPTS double  , rad\n",
    "    #% 1 int        , 19200 or npts*8 (end of block of output)\n",
    "    #% LOOP ENDS\n",
    "    #%npts: the number of points in the panel?\n",
    "    #% Author: Xianglei Huang\n",
    "    #% Tested on Redhat Linux with pgi-compiler version of LBLRTM\n",
    "    v = np.array([])\n",
    "    rad = np.array([])\n",
    "    if opt.lower() == 'float' or opt.lower() == 'single':\n",
    "        shift = 266\n",
    "        itype   = 1\n",
    "    else:\n",
    "        shift = 356\n",
    "        itype = 2\n",
    "    #print(shift,itype)\n",
    "    fid = open(fname, 'rb')\n",
    "    fid.seek(shift*4)\n",
    "    #% decide whether need to open as big-endian file\n",
    "    test = struct.unpack(\"i\",fid.read(4))[0]  #matlab中的'int'对应c的'int'\n",
    "    #print(\"test=\",test)\n",
    "    fid.close()\n",
    "    if (itype == 1 and test == 24) or (itype ==2 and test == 32):\n",
    "        fid = open(fname, 'rb')\n",
    "        fid.seek(shift*4)\n",
    "        order='<'\n",
    "    else:\n",
    "        fid = open(fname, 'rb')\n",
    "        fid.seek(shift*4)\n",
    "        order='>'        \n",
    "    #print(order)\n",
    "    endflg = 0\n",
    "    panel = 0\n",
    "#\n",
    "    if itype == 1:   \n",
    "        while endflg == 0:\n",
    "            panel = panel + 1\n",
    "            _ = struct.unpack(order+\"i\",fid.read(4))[0]\n",
    "            v1= struct.unpack(order+\"d\",fid.read(8))[0]#matlab的'double'对应c的'double'，对应python的float，占8字节\n",
    "            #print(\"v1=\",v1)\n",
    "            if np.isnan(v1):\n",
    "                break\n",
    "            v2= struct.unpack(order+\"d\",fid.read(8))[0]\n",
    "            #print(\"v2=\",v2)\n",
    "            dv= struct.unpack(order+\"f\",fid.read(4))[0]#matlab的'float'对应c的'float'，对应python的float，占4字节\n",
    "            #print(\"dv=\",dv)\n",
    "            npts= struct.unpack(order+\"i\",fid.read(4))[0]\n",
    "            #print(\"npts=\",npts)\n",
    "            if npts!=2400:\n",
    "                endflg=1\n",
    "                #print(\"npts break\",\" and npts=\",npts)\n",
    "            _ = struct.unpack(order+\"i\",fid.read(4))[0]\n",
    "            LEN= struct.unpack(order+\"i\",fid.read(4))[0]\n",
    "            if LEN!=4*npts:\n",
    "                #print('1 internal file inconsistency')\n",
    "                endflg=1\n",
    "            tmp= struct.unpack(order+str(npts)+\"f\",fid.read(4*npts))\n",
    "            #print(\"tmp=\",tmp)\n",
    "            LEN2= struct.unpack(order+\"i\",fid.read(4))[0]\n",
    "            if LEN != LEN2:\n",
    "                #print('2 internal file inconsistency')\n",
    "                endflg=1\n",
    "            v=np.append(v,np.arange(v1,v2,dv).transpose())\n",
    "            rad=np.append(rad,np.array(tmp).reshape(npts,1))\n",
    "    else:\n",
    "        print(\"itype != 1\")\n",
    "        while endflg == 0:\n",
    "            panel = panel + 1\n",
    "            _ = struct.unpack(order+\"i\",fid.read(4))[0]\n",
    "            tmp= struct.unpack(order+\"3d\",fid.read(8*3))\n",
    "            v1=tmp[0]\n",
    "            v2=tmp[1]\n",
    "            dv=tmp[2]\n",
    "            if np.isnan(v1):\n",
    "                break \n",
    "            npts= struct.unpack(order+\"q\",fid.read(8))[0] #npts = fread(fid, 1, 'int64');\n",
    "            if npts!=2400:\n",
    "                endflg=1\n",
    "                #print(\"npts break\")\n",
    "            _ = struct.unpack(order+\"i\",fid.read(4))[0]   \n",
    "            LEN= struct.unpack(order+\"i\",fid.read(4))[0]\n",
    "            if LEN!=8*npts:\n",
    "                #print('3 internal file inconsistency')\n",
    "                endflg=1\n",
    "            tmp= struct.unpack((order+str(npts)+\"d\"),fid.read(8*npts))\n",
    "            LEN2= struct.unpack(order+\"i\",fid.read(4))[0]\n",
    "            if LEN != LEN2:\n",
    "                #print('4 internal file inconsistency')\n",
    "                endflg=1\n",
    "            v=np.append(v,np.arange(v1,v2,dv).transpose())\n",
    "            rad=np.append(rad,np.array(tmp).reshape(npts,1))                \n",
    "    fid.close()\n",
    "    return v,rad"
   ]
  },
  {
   "cell_type": "code",
   "execution_count": 3,
   "metadata": {},
   "outputs": [],
   "source": [
    "def EC(fname):\n",
    "    p=np.array([])\n",
    "    t=np.array([])\n",
    "    wv=np.array([])\n",
    "    co2=np.array([])\n",
    "    o3=np.array([])\n",
    "    no2=np.array([])\n",
    "    co=np.array([])\n",
    "    ch4=np.array([])\n",
    "    input_file=open(fname)\n",
    "    num=0\n",
    "    for line in islice(input_file,19,None):\n",
    "        num=num+1\n",
    "        #print(line)\n",
    "        p_temp,t_temp,wv_temp,co2_temp,o3_temp,no2_temp,co_temp,ch4_temp=[float(i) for i in line.split()]\n",
    "        p=np.append(p,p_temp)\n",
    "        t=np.append(t,t_temp)\n",
    "        wv=np.append(wv,wv_temp)\n",
    "        co2=np.append(co2,co2_temp)\n",
    "        o3=np.append(o3,o3_temp)\n",
    "        no2=np.append(no2,no2_temp)\n",
    "        co=np.append(co,co_temp)\n",
    "        ch4=np.append(ch4,ch4_temp)\n",
    "        if num%101==0:\n",
    "            for line2 in islice(input_file, 0, 2):\n",
    "                continue\n",
    "            \n",
    "    return p,t,wv,co2,o3,no2,co,ch4"
   ]
  },
  {
   "cell_type": "code",
   "execution_count": 4,
   "metadata": {},
   "outputs": [],
   "source": [
    "def func_evaluation(y_real, y_pred, verbose=True):\n",
    "    \"\"\"\n",
    "    y_real: real values\n",
    "    y_pred: prediction values\n",
    "    MAKE THEM HAVE THE SHAPE OF (N,) FIRST BY USING ndarray.ravel()\n",
    "    \"\"\"\n",
    "    if not isinstance(y_real, np.ndarray):\n",
    "        y_real = np.array(y_real)\n",
    "    if not isinstance(y_pred, np.ndarray):\n",
    "        y_pred = np.array(y_pred)\n",
    "    y_real = y_real.ravel()\n",
    "    y_pred = y_pred.ravel()\n",
    "\n",
    "    # MAPE\n",
    "    def cal_mape(y_true, y_pred):\n",
    "        y_true = np.where(y_true == 0, 1, y_true)  # To avoid zeros.\n",
    "        mape = np.mean(abs((y_true.ravel() - y_pred.ravel()) / y_true.ravel()))\n",
    "        return mape\n",
    "\n",
    "    m0 = stats.pearsonr(y_real, y_pred)[0]\n",
    "    m1 = r2_score(y_real, y_pred)\n",
    "    m2 = explained_variance_score(y_real, y_pred)\n",
    "    m3 = mean_squared_error(y_real, y_pred)\n",
    "    m4 = mean_absolute_error(y_real, y_pred)\n",
    "    m5 = cal_mape(y_real, y_pred)\n",
    "    if verbose:\n",
    "        print(\"模型的评估结果:\")\n",
    "        print(\n",
    "            'PersonR: %f \\nRMSE: %f \\nR2: %f \\nExplained Variance: %f \\nMSE: %f \\nMAE: %f \\nMAPE: %f'\n",
    "            % (m0, np.sqrt(m3), m1, m2, m3, m4, m5))\n",
    "    return m0, np.sqrt(m3), m1, m2, m3, m4, m5\n",
    "\n"
   ]
  },
  {
   "cell_type": "code",
   "execution_count": 5,
   "metadata": {
    "scrolled": true
   },
   "outputs": [
    {
     "name": "stdout",
     "output_type": "stream",
     "text": [
      "(8383, 8)\n",
      "(8300, 8)\n"
     ]
    }
   ],
   "source": [
    "ecpath='/mnt/hdd2/228_data/liuli/liul'\n",
    "ozopath='/mnt/hdd2/228_data/liuli/liul/ozo/angle1'\n",
    "ec_name=ecpath+'/ECMWF_83P_101L.dat'\n",
    "#print(type(test_name))\n",
    "p,t,wv,co2,o3,no2,co,ch4=EC(ec_name)   \n",
    "#print(t)\n",
    "ec_input=np.hstack((p.reshape(-1,1),t.reshape(-1,1),wv.reshape(-1,1),co2.reshape(-1,1),o3.reshape(-1,1),no2.reshape(-1,1),co.reshape(-1,1),ch4.reshape(-1,1)))\n",
    "print(ec_input.shape)\n",
    "ec_input_100=np.zeros((83*100,ec_input.shape[1]))\n",
    "for pro in range(0,83): #83条\n",
    "    for i in range(0+101*pro,100+101*pro):\n",
    "        for j in range(ec_input.shape[1]):\n",
    "            ec_input_100[i-101*pro+100*pro,j]=(ec_input[i,j]+ec_input[i+1,j])/2.0\n",
    "print(ec_input_100.shape)"
   ]
  },
  {
   "cell_type": "code",
   "execution_count": null,
   "metadata": {
    "scrolled": true
   },
   "outputs": [
    {
     "name": "stdout",
     "output_type": "stream",
     "text": [
      "2021-03-30 19:03:34\n",
      "####################！！！RF Running！！！##########################\n"
     ]
    },
    {
     "name": "stderr",
     "output_type": "stream",
     "text": [
      "/mnt/hdd3/liuli/anaconda3/envs/JT/lib/python3.7/site-packages/ipykernel_launcher.py:17: RuntimeWarning: overflow encountered in true_divide\n"
     ]
    },
    {
     "name": "stdout",
     "output_type": "stream",
     "text": [
      "模型的评估结果:\n",
      "PersonR: 0.977770 \n",
      "RMSE: 0.064051 \n",
      "R2: 0.955949 \n",
      "Explained Variance: 0.955950 \n",
      "MSE: 0.004103 \n",
      "MAE: 0.022401 \n",
      "MAPE: inf\n",
      "RF (0.977769671727521, 0.06405116607001612, 0.9559491840334827, 0.9559504655657026, 0.004102551874928785, 0.022400947285268053, inf)\n",
      "2021-03-30 20:38:53\n",
      "####################！！！RF Running！！！##########################\n"
     ]
    },
    {
     "name": "stderr",
     "output_type": "stream",
     "text": [
      "/mnt/hdd3/liuli/anaconda3/envs/JT/lib/python3.7/site-packages/ipykernel_launcher.py:17: RuntimeWarning: overflow encountered in true_divide\n"
     ]
    },
    {
     "name": "stdout",
     "output_type": "stream",
     "text": [
      "模型的评估结果:\n",
      "PersonR: 0.978119 \n",
      "RMSE: 0.063167 \n",
      "R2: 0.956645 \n",
      "Explained Variance: 0.956646 \n",
      "MSE: 0.003990 \n",
      "MAE: 0.022026 \n",
      "MAPE: inf\n",
      "RF (0.9781186610223573, 0.06316685648809216, 0.9566448131768671, 0.9566456759621874, 0.003990051758587231, 0.022026407044220934, inf)\n",
      "2021-03-30 22:15:36\n",
      "####################！！！RF Running！！！##########################\n"
     ]
    },
    {
     "name": "stderr",
     "output_type": "stream",
     "text": [
      "/mnt/hdd3/liuli/anaconda3/envs/JT/lib/python3.7/site-packages/ipykernel_launcher.py:17: RuntimeWarning: overflow encountered in true_divide\n"
     ]
    },
    {
     "name": "stdout",
     "output_type": "stream",
     "text": [
      "模型的评估结果:\n",
      "PersonR: 0.978826 \n",
      "RMSE: 0.061779 \n",
      "R2: 0.958021 \n",
      "Explained Variance: 0.958030 \n",
      "MSE: 0.003817 \n",
      "MAE: 0.020950 \n",
      "MAPE: inf\n",
      "RF (0.9788255614178863, 0.061779481846046494, 0.9580205877548127, 0.9580299162590888, 0.0038167043771659883, 0.020949598470166673, inf)\n",
      "2021-03-30 23:51:36\n",
      "####################！！！RF Running！！！##########################\n"
     ]
    },
    {
     "name": "stderr",
     "output_type": "stream",
     "text": [
      "/mnt/hdd3/liuli/anaconda3/envs/JT/lib/python3.7/site-packages/ipykernel_launcher.py:17: RuntimeWarning: overflow encountered in true_divide\n"
     ]
    },
    {
     "name": "stdout",
     "output_type": "stream",
     "text": [
      "模型的评估结果:\n",
      "PersonR: 0.979401 \n",
      "RMSE: 0.060555 \n",
      "R2: 0.959150 \n",
      "Explained Variance: 0.959162 \n",
      "MSE: 0.003667 \n",
      "MAE: 0.020334 \n",
      "MAPE: inf\n",
      "RF (0.9794008613958749, 0.060555071304002415, 0.9591497920582002, 0.9591620143561158, 0.003666916660632817, 0.02033421501981986, inf)\n",
      "2021-03-31 01:28:03\n",
      "####################！！！RF Running！！！##########################\n"
     ]
    },
    {
     "name": "stderr",
     "output_type": "stream",
     "text": [
      "/mnt/hdd3/liuli/anaconda3/envs/JT/lib/python3.7/site-packages/ipykernel_launcher.py:17: RuntimeWarning: overflow encountered in true_divide\n"
     ]
    },
    {
     "name": "stdout",
     "output_type": "stream",
     "text": [
      "模型的评估结果:\n",
      "PersonR: 0.979322 \n",
      "RMSE: 0.060279 \n",
      "R2: 0.958994 \n",
      "Explained Variance: 0.959009 \n",
      "MSE: 0.003634 \n",
      "MAE: 0.020068 \n",
      "MAPE: inf\n",
      "RF (0.979322117811613, 0.06027921223589194, 0.9589937667390798, 0.9590087419184816, 0.003633583427779704, 0.020068102829562777, inf)\n",
      "2021-03-31 03:06:29\n",
      "####################！！！RF Running！！！##########################\n"
     ]
    },
    {
     "name": "stderr",
     "output_type": "stream",
     "text": [
      "/mnt/hdd3/liuli/anaconda3/envs/JT/lib/python3.7/site-packages/ipykernel_launcher.py:17: RuntimeWarning: overflow encountered in true_divide\n",
      "/mnt/hdd3/liuli/anaconda3/envs/JT/lib/python3.7/site-packages/numpy/core/_methods.py:160: RuntimeWarning: overflow encountered in reduce\n",
      "  ret = umr_sum(arr, axis, dtype, out, keepdims)\n"
     ]
    },
    {
     "name": "stdout",
     "output_type": "stream",
     "text": [
      "模型的评估结果:\n",
      "PersonR: 0.979325 \n",
      "RMSE: 0.059874 \n",
      "R2: 0.958995 \n",
      "Explained Variance: 0.959006 \n",
      "MSE: 0.003585 \n",
      "MAE: 0.019880 \n",
      "MAPE: inf\n",
      "RF (0.9793249788126523, 0.059873522967600894, 0.9589950160869312, 0.9590063998386666, 0.003584838752551832, 0.019880237555283432, inf)\n",
      "2021-03-31 04:43:23\n",
      "####################！！！RF Running！！！##########################\n"
     ]
    },
    {
     "name": "stderr",
     "output_type": "stream",
     "text": [
      "/mnt/hdd3/liuli/anaconda3/envs/JT/lib/python3.7/site-packages/ipykernel_launcher.py:17: RuntimeWarning: overflow encountered in true_divide\n"
     ]
    },
    {
     "name": "stdout",
     "output_type": "stream",
     "text": [
      "模型的评估结果:\n",
      "PersonR: 0.979687 \n",
      "RMSE: 0.058924 \n",
      "R2: 0.959714 \n",
      "Explained Variance: 0.959725 \n",
      "MSE: 0.003472 \n",
      "MAE: 0.019323 \n",
      "MAPE: inf\n",
      "RF (0.9796871293266812, 0.05892421361440843, 0.9597138799936167, 0.9597249187869935, 0.003472062950076436, 0.019322570112462665, inf)\n",
      "2021-03-31 06:20:42\n",
      "####################！！！RF Running！！！##########################\n"
     ]
    },
    {
     "name": "stderr",
     "output_type": "stream",
     "text": [
      "/mnt/hdd3/liuli/anaconda3/envs/JT/lib/python3.7/site-packages/ipykernel_launcher.py:17: RuntimeWarning: overflow encountered in true_divide\n",
      "/mnt/hdd3/liuli/anaconda3/envs/JT/lib/python3.7/site-packages/numpy/core/_methods.py:160: RuntimeWarning: overflow encountered in reduce\n",
      "  ret = umr_sum(arr, axis, dtype, out, keepdims)\n"
     ]
    },
    {
     "name": "stdout",
     "output_type": "stream",
     "text": [
      "模型的评估结果:\n",
      "PersonR: 0.980163 \n",
      "RMSE: 0.057824 \n",
      "R2: 0.960644 \n",
      "Explained Variance: 0.960651 \n",
      "MSE: 0.003344 \n",
      "MAE: 0.019232 \n",
      "MAPE: inf\n",
      "RF (0.9801627496396801, 0.05782384640436309, 0.9606439004539096, 0.9606505213338502, 0.003343597212995374, 0.019231547265816336, inf)\n",
      "2021-03-31 07:58:36\n",
      "####################！！！RF Running！！！##########################\n"
     ]
    },
    {
     "name": "stderr",
     "output_type": "stream",
     "text": [
      "/mnt/hdd3/liuli/anaconda3/envs/JT/lib/python3.7/site-packages/ipykernel_launcher.py:17: RuntimeWarning: overflow encountered in true_divide\n",
      "/mnt/hdd3/liuli/anaconda3/envs/JT/lib/python3.7/site-packages/numpy/core/_methods.py:160: RuntimeWarning: overflow encountered in reduce\n",
      "  ret = umr_sum(arr, axis, dtype, out, keepdims)\n"
     ]
    },
    {
     "name": "stdout",
     "output_type": "stream",
     "text": [
      "模型的评估结果:\n",
      "PersonR: 0.980580 \n",
      "RMSE: 0.056801 \n",
      "R2: 0.961455 \n",
      "Explained Variance: 0.961461 \n",
      "MSE: 0.003226 \n",
      "MAE: 0.018719 \n",
      "MAPE: inf\n",
      "RF (0.9805797543315881, 0.056800720629991606, 0.961454647643067, 0.9614614046057817, 0.003226321864086354, 0.018718806127511877, inf)\n",
      "2021-03-31 09:36:22\n",
      "####################！！！RF Running！！！##########################\n"
     ]
    },
    {
     "name": "stderr",
     "output_type": "stream",
     "text": [
      "/mnt/hdd3/liuli/anaconda3/envs/JT/lib/python3.7/site-packages/ipykernel_launcher.py:17: RuntimeWarning: overflow encountered in true_divide\n"
     ]
    },
    {
     "name": "stdout",
     "output_type": "stream",
     "text": [
      "模型的评估结果:\n",
      "PersonR: 0.980610 \n",
      "RMSE: 0.056302 \n",
      "R2: 0.961524 \n",
      "Explained Variance: 0.961529 \n",
      "MSE: 0.003170 \n",
      "MAE: 0.018431 \n",
      "MAPE: inf\n",
      "RF (0.9806097642920791, 0.05630225380532423, 0.9615235459816425, 0.9615292285254884, 0.0031699437835591465, 0.018430836356696248, inf)\n",
      "2021-03-31 11:14:34\n",
      "####################！！！RF Running！！！##########################\n"
     ]
    },
    {
     "name": "stderr",
     "output_type": "stream",
     "text": [
      "/mnt/hdd3/liuli/anaconda3/envs/JT/lib/python3.7/site-packages/ipykernel_launcher.py:17: RuntimeWarning: overflow encountered in true_divide\n"
     ]
    },
    {
     "name": "stdout",
     "output_type": "stream",
     "text": [
      "模型的评估结果:\n",
      "PersonR: 0.980913 \n",
      "RMSE: 0.055391 \n",
      "R2: 0.962116 \n",
      "Explained Variance: 0.962120 \n",
      "MSE: 0.003068 \n",
      "MAE: 0.018139 \n",
      "MAPE: inf\n",
      "RF (0.9809132462176385, 0.055391461049367825, 0.962116243040235, 0.9621204927415115, 0.003068213957183633, 0.01813907901779143, inf)\n",
      "2021-03-31 12:53:51\n",
      "####################！！！RF Running！！！##########################\n"
     ]
    }
   ],
   "source": [
    "#把EC83的廓线按照第一条，第一层复制55万个，然后第二条、第一层，共83*100*55万个数据。\n",
    "ec_df=pd.DataFrame(ec_input_100)\n",
    "#print(ec_df)\n",
    "true_total=np.array([])\n",
    "pre_total=np.array([])\n",
    "\n",
    "for i in range(86,-1,-1):\n",
    "    f = open(\"metrics_%d.txt\" %(i), \"w\")\n",
    "    tot=np.array([])\n",
    "    v=np.array([])\n",
    "    mg_od=np.array([])\n",
    "    for pro in range(0,83):\n",
    "     #倒叙原因是为与ozo文件统一，ozo中第一层是最底层\n",
    "        new=np.repeat(ec_df.iloc[i+pro*100].values.reshape(1,-1),555001,axis=0)\n",
    "        #print(new.shape)\n",
    "        tot=np.append(tot,new)\n",
    "        lev=100-i\n",
    "        #####开始处理ozo的小文件\n",
    "        fix_name = glob.glob(ozopath+'/*_%dP_*%03d' %(pro+1,lev))\n",
    "        if os.path.exists(fix_name[0]):\n",
    "            v_temp,mg_od_temp = lblrtm_tape11_reader(fix_name[0],'single')\n",
    "            mg_od_temp=np.exp(-mg_od_temp)\n",
    "        else:\n",
    "            v_temp=np.full([555001,], np.nan)\n",
    "            mg_od_temp=np.full([555001,], np.nan)\n",
    "        v=np.append(v,v_temp)\n",
    "        mg_od=np.append(mg_od,mg_od_temp)\n",
    "    tot=tot.reshape(-1,8)\n",
    "    v=v.reshape(-1,1)\n",
    "    mg_od=mg_od.reshape(-1,1)\n",
    "    #print(tot.shape)\n",
    "    X=np.hstack((tot,v))\n",
    "    #print(X.shape)\n",
    "    Y=mg_od\n",
    "    print(datetime.datetime.now().strftime('%Y-%m-%d %H:%M:%S'))\n",
    "    f.write(\"start：\"+datetime.datetime.now().strftime('%Y-%m-%d %H:%M:%S')+\"\\n\")\n",
    "    #########开始训练并比较结果\n",
    "    #print(\"####################！！！XGBoost Running！！！##########################\")\n",
    "    #model = xgb.XGBRegressor(**xgb_params)\n",
    "    #model.fit(X[:60*555001], Y[:60*555001].ravel()) ###共83条廓线，前80条做训练，后3条做测试\n",
    "    #y_pred = model.predict(X[60*555001:])\n",
    "    #metrics_i = func_evaluation(Y[60*555001:], y_pred)\n",
    "    #f.write(\"start\"+datetime.datetime.now()+\"\\n\")\n",
    "    #f.write(datetime.datetime.now().strftime('%Y-%m-%d %H:%M:%S')+str(metrics_i)+\"\\n\")\n",
    "    #print(\"XGB:\",metrics_i)\n",
    "    #print(\"####################！！！LGB Running！！！##########################\")\n",
    "    #model2 = lgb.LGBMRegressor(**lgbm_params)\n",
    "    #\n",
    "    #model2.fit(X[:60*555001], Y[:60*555001].ravel())\n",
    "    #y_pred2 = model2.predict(X[60*555001:])\n",
    "    #metrics_i2 = func_evaluation(Y[60*555001:], y_pred2)\n",
    "    #f.write(datetime.datetime.now().strftime('%Y-%m-%d %H:%M:%S')+str(metrics_i2)+\"\\n\")\n",
    "    #print(\"LGB\",metrics_i2)\n",
    "    print(\"####################！！！RF Running！！！##########################\")\n",
    "    model3 = RandomForestRegressor(**rf_params)\n",
    "    model3.fit(X[:60*555001], Y[:60*555001].ravel())\n",
    "    y_pred3 = model3.predict(X[60*555001:])\n",
    "    metrics_i3 = func_evaluation(Y[60*555001:], y_pred3)\n",
    "    f.write(\"rf_finished:\"+datetime.datetime.now().strftime('%Y-%m-%d %H:%M:%S')+\"\\n\")\n",
    "    f.write(str(rf_params))\n",
    "    f.write(str(metrics_i3)+\"\\n\")\n",
    "    print(\"RF\",metrics_i3) \n",
    "    joblib.dump(model3, 'model_rf_level_%02d.pkl' %(i))\n",
    "    \n",
    "    true_total=np.append(true_total,Y[60*555001:])\n",
    "    pre_total=np.append(pre_total, y_pred3)\n",
    "    #print(\"####################！！！ET Running！！！##########################\")\n",
    "    #model4 = ExtraTreesRegressor(**et_params)\n",
    "    #model4.fit(X[:60*555001], Y[:60*555001].ravel())\n",
    "    #y_pred4 = model4.predict(X[60*555001:])\n",
    "    #metrics_i4 = func_evaluation(Y[60*555001:], y_pred4)\n",
    "    #f.write(datetime.datetime.now().strftime('%Y-%m-%d %H:%M:%S')+str(metrics_i4)+\"\\n\")\n",
    "    #print(\"ET\",metrics_i4)   \n",
    "    #print(\"####################！！！CAT Running！！！##########################\")\n",
    "    #model5 = CatBoostRegressor(**cat_params,verbose=None)\n",
    "    #model5.fit(X[:60*555001], Y[:60*555001].ravel())\n",
    "    #y_pred5 = model5.predict(X[60*555001:])\n",
    "    #metrics_i5 = func_evaluation(Y[60*555001:], y_pred5)\n",
    "    #f.write(datetime.datetime.now().strftime('%Y-%m-%d %H:%M:%S')+str(metrics_i5)+\"\\n\")\n",
    "    #f.write(\"end\"+datetime.datetime.now().strftime('%Y-%m-%d %H:%M:%S')+\"\\n\")\n",
    "    #print(\"CAT\",metrics_i5)\n",
    "    f.close()\n",
    "    #if i==99:\n",
    "    #    break"
   ]
  },
  {
   "cell_type": "code",
   "execution_count": null,
   "metadata": {},
   "outputs": [],
   "source": [
    "np.savez('pre.npz', sequence_array=pre_total)\n",
    "np.savez('tru.npz', sequence_array=true_total)\n",
    "metrics_total = func_evaluation(true_total, pre_total)\n",
    "print(metrics_total)"
   ]
  },
  {
   "cell_type": "code",
   "execution_count": null,
   "metadata": {
    "scrolled": true
   },
   "outputs": [],
   "source": [
    "##fixpath='/home/liuli/liul/fixgas/angle1'\n",
    "#\n",
    "#wvpath='/home/liuli/liul/wv/angle1'\n",
    "#\n",
    "#for lev in range(1,2):#101):\n",
    "##    print(pro)  \n",
    "#    for pro in range(1,2): #84):\n",
    "#        fix_name = glob.glob(ozopath+'/*_%dP_*%03d' %(pro,lev))\n",
    "#        if os.path.exists(fix_name[0]):\n",
    "#            print(fix_name[0])\n",
    "#            v_temp,mg_od_temp = lblrtm_tape11_reader(fix_name[0],'single')\n",
    "#            \n",
    "#        else:\n",
    "#            v=np.full([555001,], np.nan)\n",
    "#            mg_od=np.full([555001,], np.nan)\n",
    "#        v=np.append(v,v_temp)\n",
    "#        #print(v.shape)\n",
    "#        mg_od=np.append(mg_od,mg_od_temp)\n",
    "#print(v.shape,mg_od.shape)\n",
    "##np.savez('v.npz', sequence_array=v)\n",
    "##np.savez('mg_od.npz', sequence_array=mg_od)"
   ]
  },
  {
   "cell_type": "code",
   "execution_count": null,
   "metadata": {},
   "outputs": [],
   "source": []
  }
 ],
 "metadata": {
  "kernelspec": {
   "display_name": "Python 3",
   "language": "python",
   "name": "python3"
  },
  "language_info": {
   "codemirror_mode": {
    "name": "ipython",
    "version": 3
   },
   "file_extension": ".py",
   "mimetype": "text/x-python",
   "name": "python",
   "nbconvert_exporter": "python",
   "pygments_lexer": "ipython3",
   "version": "3.7.8"
  }
 },
 "nbformat": 4,
 "nbformat_minor": 4
}
